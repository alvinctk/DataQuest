{
 "cells": [
  {
   "cell_type": "markdown",
   "metadata": {},
   "source": [
    "The most comman way to join data using SQL is using an **inner join**. The syntax for inner join is:\n",
    "\n",
    "```mysql\n",
    "SELECT [column_names] FROM [table_name_one]\n",
    "INNER JOIN [table_name_two] ON [join_constraint];\n",
    "```\n",
    "- <code><font color=\"red\">INNER JOIN</font></code>, the name of the table to join in query \n",
    "- <code><font color=\"red\">ON</font></code>, what columns to use to join the two tables\n",
    "- <code><font color=\"red\">FROM</font></code>, Joins usually used in query after\n",
    "\n"
   ]
  },
  {
   "cell_type": "markdown",
   "metadata": {},
   "source": [
    "```mysql\n",
    "SELECT * FROM facts\n",
    "INNER JOIN cities ON cities.facts_id = facts.id\n",
    "LIMIT 5\n",
    "```\n",
    "\n",
    "- <code><font color=\"blue\">INNER JOIN cities</font></code>, Use inner join to join table <code><font color=\"blue\">cities</font></code>\n",
    "- <code><font color=\"blue\">cities ON cities.facts_id = facts.id</font></code>, tells the SQL engine which columns to use when joining the data, following the syntax <code><font color=\"blue\">table_name.column_name</font></code>\n",
    "\n",
    "\n",
    "You might presume that ```SELECT * FROM``` facts will mean that the query returns only columns from the facts table, however the ```*``` wildcard when used with a join will give you all columns from both tables. Here is the result of this query:\n",
    "\n",
    "This query gives us all columns from both tables and every row where there is a match between the id column from facts and the facts_id from cities, limited to the first 5 rows. We'll look at how the join itself works in detail in a moment, but first let's practice writing our first join."
   ]
  },
  {
   "cell_type": "markdown",
   "metadata": {},
   "source": [
    "<img src=\"schema.svg\"/>"
   ]
  },
  {
   "cell_type": "markdown",
   "metadata": {},
   "source": [
    "\n",
    "    id - A unique ID for each city.\n",
    "    name - The name of the city.\n",
    "    population - The population of the city.\n",
    "    capital - Whether the city is a capital city: 1 if it is, 0 if it isn't.\n",
    "    facts_id - The ID of the country, from the facts table.\n"
   ]
  },
  {
   "cell_type": "markdown",
   "metadata": {},
   "source": [
    "<img src=\"inner_join.svg\"/>"
   ]
  },
  {
   "cell_type": "code",
   "execution_count": 3,
   "metadata": {},
   "outputs": [
    {
     "name": "stdout",
     "output_type": "stream",
     "text": [
      "inner_join.svg\tschema.svg  SQLITE3-Notes.ipynb\r\n"
     ]
    }
   ],
   "source": [
    "!ls"
   ]
  },
  {
   "cell_type": "code",
   "execution_count": null,
   "metadata": {},
   "outputs": [],
   "source": []
  }
 ],
 "metadata": {
  "kernelspec": {
   "display_name": "Python 3",
   "language": "python",
   "name": "python3"
  },
  "language_info": {
   "codemirror_mode": {
    "name": "ipython",
    "version": 3
   },
   "file_extension": ".py",
   "mimetype": "text/x-python",
   "name": "python",
   "nbconvert_exporter": "python",
   "pygments_lexer": "ipython3",
   "version": "3.6.4"
  }
 },
 "nbformat": 4,
 "nbformat_minor": 2
}
