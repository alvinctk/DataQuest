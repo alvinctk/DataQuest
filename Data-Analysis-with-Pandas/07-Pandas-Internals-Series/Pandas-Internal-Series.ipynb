{
 "cells": [
  {
   "cell_type": "markdown",
   "metadata": {},
   "source": [
    "# Learning Pandas' internal Series \n",
    "To better understand how it does things under the hood.\n",
    "\n",
    "The three key data structures in Pandas are:\n",
    "- Series objects (collections of values)\n",
    "- DataFrames (collections of Series objects)\n",
    "- Panels (collections of DataFrame objects)\n",
    "\n",
    "In this mission, we will focus on the Series Object. \n",
    "\n",
    "Series objects uses NumPy arrays for fast computation, but add valuable features to them for analyzing data. \n",
    "While Numpy arrays use an integer index, for example, Series objects can use other index types, such as a string index. Series objects also allow for mixed data types, and use the NaN Python value for handling missing values.\n",
    "\n",
    "A Series object can hold many data types, including: \n",
    "- `float` - For float values\n",
    "- `int` - For integer values\n",
    "- `bool` - For Boolean values\n",
    "- `datetime64[ns]` - For date & time, without time zone\n",
    "- `datetime64[ns, tz]` - For date & time, with time zone\n",
    "- `timedelta[ns]` - For representing differences in dates & times (seconds, minutes, etc.)\n",
    "- `category` - For categorical values\n",
    "- `object` - For string values\n",
    "\n"
   ]
  },
  {
   "cell_type": "markdown",
   "metadata": {},
   "source": [
    "## Fandango\n",
    "\n",
    "Before we go into further depth, let's introduce the data set we'll be working with. The FiveThirtyEight team recently released a data set containing scores for all movies that have substantive user and critic reviews on IMDB, Rotten Tomatoes, Metacritic, and Fandango. **We'll be working with the file `fandango_score_comparison.csv`**, which you can download from their Github repository. Here are some of the columns in the data set:\n",
    "\n",
    "- `FILM` - Film name\n",
    "- `RottenTomatoes` - Average critic score on Rotten Tomatoes\n",
    "- `RottenTomatoes_User` - Average user score on Rotten Tomatoes\n",
    "- `RT_norm` - Average critic score on Rotten Tomatoes (normalized to a 0 to 5-point system)\n",
    "- `RT_user-norm` - Average user score on Rotten Tomatoes (normalized to a 0 to 5-point system)\n",
    "- `Metacritic` - Average critic score on Metacritic\n",
    "- `Metacritic_User` - Average user score on Metacritic\n",
    "\n",
    "The full list of columns, along with their descriptions, is available on the [Github repository](https://github.com/fivethirtyeight/data/tree/master/fandango)."
   ]
  },
  {
   "cell_type": "markdown",
   "metadata": {},
   "source": [
    "**Instructions:**\n",
    "- Use the pd.read_csv() function to read \"fandango_score_comparison.csv\" into a DataFrame object called fandango.\n",
    "- Then, use the .head() method to print the first two rows.\n"
   ]
  },
  {
   "cell_type": "code",
   "execution_count": 1,
   "metadata": {},
   "outputs": [
    {
     "data": {
      "text/html": [
       "<div>\n",
       "<style scoped>\n",
       "    .dataframe tbody tr th:only-of-type {\n",
       "        vertical-align: middle;\n",
       "    }\n",
       "\n",
       "    .dataframe tbody tr th {\n",
       "        vertical-align: top;\n",
       "    }\n",
       "\n",
       "    .dataframe thead th {\n",
       "        text-align: right;\n",
       "    }\n",
       "</style>\n",
       "<table border=\"1\" class=\"dataframe\">\n",
       "  <thead>\n",
       "    <tr style=\"text-align: right;\">\n",
       "      <th></th>\n",
       "      <th>FILM</th>\n",
       "      <th>RottenTomatoes</th>\n",
       "      <th>RottenTomatoes_User</th>\n",
       "      <th>Metacritic</th>\n",
       "      <th>Metacritic_User</th>\n",
       "      <th>IMDB</th>\n",
       "      <th>Fandango_Stars</th>\n",
       "      <th>Fandango_Ratingvalue</th>\n",
       "      <th>RT_norm</th>\n",
       "      <th>RT_user_norm</th>\n",
       "      <th>...</th>\n",
       "      <th>IMDB_norm</th>\n",
       "      <th>RT_norm_round</th>\n",
       "      <th>RT_user_norm_round</th>\n",
       "      <th>Metacritic_norm_round</th>\n",
       "      <th>Metacritic_user_norm_round</th>\n",
       "      <th>IMDB_norm_round</th>\n",
       "      <th>Metacritic_user_vote_count</th>\n",
       "      <th>IMDB_user_vote_count</th>\n",
       "      <th>Fandango_votes</th>\n",
       "      <th>Fandango_Difference</th>\n",
       "    </tr>\n",
       "  </thead>\n",
       "  <tbody>\n",
       "    <tr>\n",
       "      <th>0</th>\n",
       "      <td>Avengers: Age of Ultron (2015)</td>\n",
       "      <td>74</td>\n",
       "      <td>86</td>\n",
       "      <td>66</td>\n",
       "      <td>7.1</td>\n",
       "      <td>7.8</td>\n",
       "      <td>5.0</td>\n",
       "      <td>4.5</td>\n",
       "      <td>3.70</td>\n",
       "      <td>4.3</td>\n",
       "      <td>...</td>\n",
       "      <td>3.90</td>\n",
       "      <td>3.5</td>\n",
       "      <td>4.5</td>\n",
       "      <td>3.5</td>\n",
       "      <td>3.5</td>\n",
       "      <td>4.0</td>\n",
       "      <td>1330</td>\n",
       "      <td>271107</td>\n",
       "      <td>14846</td>\n",
       "      <td>0.5</td>\n",
       "    </tr>\n",
       "    <tr>\n",
       "      <th>1</th>\n",
       "      <td>Cinderella (2015)</td>\n",
       "      <td>85</td>\n",
       "      <td>80</td>\n",
       "      <td>67</td>\n",
       "      <td>7.5</td>\n",
       "      <td>7.1</td>\n",
       "      <td>5.0</td>\n",
       "      <td>4.5</td>\n",
       "      <td>4.25</td>\n",
       "      <td>4.0</td>\n",
       "      <td>...</td>\n",
       "      <td>3.55</td>\n",
       "      <td>4.5</td>\n",
       "      <td>4.0</td>\n",
       "      <td>3.5</td>\n",
       "      <td>4.0</td>\n",
       "      <td>3.5</td>\n",
       "      <td>249</td>\n",
       "      <td>65709</td>\n",
       "      <td>12640</td>\n",
       "      <td>0.5</td>\n",
       "    </tr>\n",
       "  </tbody>\n",
       "</table>\n",
       "<p>2 rows × 22 columns</p>\n",
       "</div>"
      ],
      "text/plain": [
       "                             FILM  RottenTomatoes  RottenTomatoes_User  \\\n",
       "0  Avengers: Age of Ultron (2015)              74                   86   \n",
       "1               Cinderella (2015)              85                   80   \n",
       "\n",
       "   Metacritic  Metacritic_User  IMDB  Fandango_Stars  Fandango_Ratingvalue  \\\n",
       "0          66              7.1   7.8             5.0                   4.5   \n",
       "1          67              7.5   7.1             5.0                   4.5   \n",
       "\n",
       "   RT_norm  RT_user_norm         ...           IMDB_norm  RT_norm_round  \\\n",
       "0     3.70           4.3         ...                3.90            3.5   \n",
       "1     4.25           4.0         ...                3.55            4.5   \n",
       "\n",
       "   RT_user_norm_round  Metacritic_norm_round  Metacritic_user_norm_round  \\\n",
       "0                 4.5                    3.5                         3.5   \n",
       "1                 4.0                    3.5                         4.0   \n",
       "\n",
       "   IMDB_norm_round  Metacritic_user_vote_count  IMDB_user_vote_count  \\\n",
       "0              4.0                        1330                271107   \n",
       "1              3.5                         249                 65709   \n",
       "\n",
       "   Fandango_votes  Fandango_Difference  \n",
       "0           14846                  0.5  \n",
       "1           12640                  0.5  \n",
       "\n",
       "[2 rows x 22 columns]"
      ]
     },
     "execution_count": 1,
     "metadata": {},
     "output_type": "execute_result"
    }
   ],
   "source": [
    "import pandas as pd\n",
    "import numpy as np\n",
    "fandango = pd.read_csv(\"fandango_score_comparison.csv\")\n",
    "fandango.head(2)"
   ]
  },
  {
   "cell_type": "markdown",
   "metadata": {},
   "source": [
    "DataFrames use Series objects to represent columns. When we select a single column from a DataFrame, pandas will return the Series object representing that column. By default, pandas indexes each individual Series object in a DataFrame with the integer data type. Each value in the Series has a unique integer index, or position. Like most Python data structures, the Series object uses 0-indexing. The indexing ranges from 0 to n-1, where n is the number of rows. We can use an integer index to select an individual value in a Series if we know its position.\n",
    "\n",
    "With both NumPy arrays and Series objects, we can pass integer indexes into bracket notation to slice and select values. With Series objects, however, we can also specify custom indexes.\n",
    "\n",
    "To explore this idea further, let's use two Series objects representing the film names and Rotten Tomatoes scores."
   ]
  },
  {
   "cell_type": "markdown",
   "metadata": {},
   "source": [
    "**Instruction**\n",
    "- Select the FILM column, assign it to the variable series_film, and print the first five values.\n",
    "- Then, select the RottenTomatoes column, assign it to the variable series_rt, and print the first five values."
   ]
  },
  {
   "cell_type": "code",
   "execution_count": 2,
   "metadata": {},
   "outputs": [
    {
     "name": "stdout",
     "output_type": "stream",
     "text": [
      "0    Avengers: Age of Ultron (2015)\n",
      "1                 Cinderella (2015)\n",
      "2                    Ant-Man (2015)\n",
      "3            Do You Believe? (2015)\n",
      "4     Hot Tub Time Machine 2 (2015)\n",
      "Name: FILM, dtype: object\n",
      "\n",
      "0    74\n",
      "1    85\n",
      "2    80\n",
      "3    18\n",
      "4    14\n",
      "Name: RottenTomatoes, dtype: int64\n"
     ]
    }
   ],
   "source": [
    "series_film = fandango[\"FILM\"]\n",
    "print(series_film[0:5])\n",
    "print()\n",
    "series_rt = fandango[\"RottenTomatoes\"]\n",
    "print(series_rt[0:5])"
   ]
  },
  {
   "cell_type": "markdown",
   "metadata": {},
   "source": [
    "## Custom index\n",
    "\n",
    "Both these Series objects are use the same integer index, which means that the value at index 5, for example, would describe the same film in both Series objects (The Water Diviner (2015)). If we had a movie in mind, we need the integer index corresponding to that movie to look up information about it.\n",
    "\n",
    "If we were given just these two Series objects and we wanted to look up the Rotten Tomatoes score for Minions (2015) and Leviathan (2014), we'd have to:\n",
    "\n",
    "    find the integer index corresponding to Minions (2015) in series_film\n",
    "    look up the value at that integer index from series_rt\n",
    "    find the integer index corresponding to Leviathan (2014) in series_film\n",
    "    look up the value at that integer index from series_rt\n",
    "\n",
    "This becomes especially cumbersome as we scale up the problem to looking up information for a larger number of movies. What we really want is a way to look up the Rotten Tomatoes scores for many movies at a time using just one command (and one Series object). To accomplish this, we need to find a way to move away from using an integer index corresponding to the row number and instead use a string index corresponding to the film name. Then we can utilize bracket notation to just pass in a list of strings matching the film names and get back the Rotten Tomatoes scores:\n",
    "\n",
    "    series_custom[['Minions (2015)', 'Leviathan (2014)']]\n",
    "\n",
    "\n",
    "\n",
    "\n",
    "\n",
    "**Instruction**\n",
    "- Create a new Series object named series_custom that has a string index (based on the values from film_names), and contains all of the Rotten Tomatoes scores from series_rt.\n",
    "    - To create a new Series object:\n",
    "        - Import Series from pandas.\n",
    "        - Instantiate a new Series object, which takes in a data parameter and an index parameter. See the [documentation](http://pandas.pydata.org/pandas-docs/stable/generated/pandas.Series.html#pandas.Series) for help.\n",
    "        - Both of these parameters need to be lists.\n"
   ]
  },
  {
   "cell_type": "code",
   "execution_count": 3,
   "metadata": {},
   "outputs": [
    {
     "name": "stdout",
     "output_type": "stream",
     "text": [
      "<class 'pandas.core.series.Series'>\n"
     ]
    },
    {
     "data": {
      "text/plain": [
       "Avengers: Age of Ultron (2015)                     74\n",
       "Cinderella (2015)                                  85\n",
       "Ant-Man (2015)                                     80\n",
       "Do You Believe? (2015)                             18\n",
       "Hot Tub Time Machine 2 (2015)                      14\n",
       "The Water Diviner (2015)                           63\n",
       "Irrational Man (2015)                              42\n",
       "Top Five (2014)                                    86\n",
       "Shaun the Sheep Movie (2015)                       99\n",
       "Love & Mercy (2015)                                89\n",
       "Far From The Madding Crowd (2015)                  84\n",
       "Black Sea (2015)                                   82\n",
       "Leviathan (2014)                                   99\n",
       "Unbroken (2014)                                    51\n",
       "The Imitation Game (2014)                          90\n",
       "Taken 3 (2015)                                      9\n",
       "Ted 2 (2015)                                       46\n",
       "Southpaw (2015)                                    59\n",
       "Night at the Museum: Secret of the Tomb (2014)     50\n",
       "Pixels (2015)                                      17\n",
       "McFarland, USA (2015)                              79\n",
       "Insidious: Chapter 3 (2015)                        59\n",
       "The Man From U.N.C.L.E. (2015)                     68\n",
       "Run All Night (2015)                               60\n",
       "Trainwreck (2015)                                  85\n",
       "Selma (2014)                                       99\n",
       "Ex Machina (2015)                                  92\n",
       "Still Alice (2015)                                 88\n",
       "Wild Tales (2014)                                  96\n",
       "The End of the Tour (2015)                         92\n",
       "                                                 ... \n",
       "Clouds of Sils Maria (2015)                        89\n",
       "Testament of Youth (2015)                          81\n",
       "Infinitely Polar Bear (2015)                       80\n",
       "Phoenix (2015)                                     99\n",
       "The Wolfpack (2015)                                84\n",
       "The Stanford Prison Experiment (2015)              84\n",
       "Tangerine (2015)                                   95\n",
       "Magic Mike XXL (2015)                              62\n",
       "Home (2015)                                        45\n",
       "The Wedding Ringer (2015)                          27\n",
       "Woman in Gold (2015)                               52\n",
       "The Last Five Years (2015)                         60\n",
       "Mission: Impossible â€“ Rogue Nation (2015)        92\n",
       "Amy (2015)                                         97\n",
       "Jurassic World (2015)                              71\n",
       "Minions (2015)                                     54\n",
       "Max (2015)                                         35\n",
       "Paul Blart: Mall Cop 2 (2015)                       5\n",
       "The Longest Ride (2015)                            31\n",
       "The Lazarus Effect (2015)                          14\n",
       "The Woman In Black 2 Angel of Death (2015)         22\n",
       "Danny Collins (2015)                               77\n",
       "Spare Parts (2015)                                 52\n",
       "Serena (2015)                                      18\n",
       "Inside Out (2015)                                  98\n",
       "Mr. Holmes (2015)                                  87\n",
       "'71 (2015)                                         97\n",
       "Two Days, One Night (2014)                         97\n",
       "Gett: The Trial of Viviane Amsalem (2015)         100\n",
       "Kumiko, The Treasure Hunter (2015)                 87\n",
       "Length: 146, dtype: int64"
      ]
     },
     "execution_count": 3,
     "metadata": {},
     "output_type": "execute_result"
    }
   ],
   "source": [
    "from pandas import Series\n",
    "import pandas as pd \n",
    "\n",
    "fandango = pd.read_csv(\"fandango_score_comparison.csv\")\n",
    "film_names = fandango[\"FILM\"].values # or series_film.values\n",
    "rt_scores = fandango[\"RottenTomatoes\"].values\n",
    "type(film_names)\n",
    "\n",
    "series_custom = Series(data=rt_scores, index=film_names)\n",
    "print(type(series_custom))\n",
    "series_custom"
   ]
  },
  {
   "cell_type": "markdown",
   "metadata": {},
   "source": [
    "Even though we specified that the Series object uses a custom string index, the object still has an internal integer index that we can use for selection. When it comes to indexes, Series objects act like both dictionaries and lists. We can access values with our custom index (like the keys in a dictionary), or the integer index (like the index in a list).\n",
    "\n",
    "**Instruction**\n",
    "- Assign the values in series_custom at indexes 5 through 10 to the variable fiveten. Then, print fiveten to \n",
    "- verify that you can still use integer values for selection."
   ]
  },
  {
   "cell_type": "code",
   "execution_count": 4,
   "metadata": {},
   "outputs": [
    {
     "data": {
      "text/plain": [
       "Minions (2015)      54\n",
       "Leviathan (2014)    99\n",
       "dtype: int64"
      ]
     },
     "execution_count": 4,
     "metadata": {},
     "output_type": "execute_result"
    }
   ],
   "source": [
    "series_custom[[\"Minions (2015)\", \"Leviathan (2014)\"]]"
   ]
  },
  {
   "cell_type": "code",
   "execution_count": 5,
   "metadata": {},
   "outputs": [
    {
     "data": {
      "text/plain": [
       "The Water Diviner (2015)             63\n",
       "Irrational Man (2015)                42\n",
       "Top Five (2014)                      86\n",
       "Shaun the Sheep Movie (2015)         99\n",
       "Love & Mercy (2015)                  89\n",
       "Far From The Madding Crowd (2015)    84\n",
       "dtype: int64"
      ]
     },
     "execution_count": 5,
     "metadata": {},
     "output_type": "execute_result"
    }
   ],
   "source": [
    "fiveten = series_custom[5:11]\n",
    "fiveten"
   ]
  },
  {
   "cell_type": "markdown",
   "metadata": {},
   "source": [
    "## Reindexing \n",
    "Reindexing is the pandas way of modifying the alignment between labels (indexes) and the data (values). The reindex() method allows us to specify a different order for the labels (indexes) in a Series object. This method takes in a list of strings corresponding to the order we'd like for that Series object.\n",
    "\n",
    "We can use the reindex() method to sort series_custom alphabetically by film. To accomplish this, we need to:\n",
    "\n",
    "    Return a list representation of the current index using tolist().\n",
    "    Sort the index with sorted().\n",
    "    Use reindex() to set the newly-ordered index.\n",
    "\n",
    "The following code cell contains the logic for accomplishing the first task. We'll leave it up to you to finish the rest."
   ]
  },
  {
   "cell_type": "markdown",
   "metadata": {},
   "source": [
    "**Instructions**\n",
    "\n",
    " - The list original_index contains the original index. Sort this index using the Python 3 core method sorted(), then pass the result in to the Series method reindex().\n",
    " - Store the result in a variable named sorted_by_index.\n"
   ]
  },
  {
   "cell_type": "code",
   "execution_count": 6,
   "metadata": {},
   "outputs": [
    {
     "data": {
      "text/plain": [
       "Index(['Avengers: Age of Ultron (2015)', 'Cinderella (2015)', 'Ant-Man (2015)',\n",
       "       'Do You Believe? (2015)', 'Hot Tub Time Machine 2 (2015)',\n",
       "       'The Water Diviner (2015)', 'Irrational Man (2015)', 'Top Five (2014)',\n",
       "       'Shaun the Sheep Movie (2015)', 'Love & Mercy (2015)',\n",
       "       ...\n",
       "       'The Woman In Black 2 Angel of Death (2015)', 'Danny Collins (2015)',\n",
       "       'Spare Parts (2015)', 'Serena (2015)', 'Inside Out (2015)',\n",
       "       'Mr. Holmes (2015)', ''71 (2015)', 'Two Days, One Night (2014)',\n",
       "       'Gett: The Trial of Viviane Amsalem (2015)',\n",
       "       'Kumiko, The Treasure Hunter (2015)'],\n",
       "      dtype='object', length=146)"
      ]
     },
     "execution_count": 6,
     "metadata": {},
     "output_type": "execute_result"
    }
   ],
   "source": [
    "original_index = series_custom.index \n",
    "original_index"
   ]
  },
  {
   "cell_type": "code",
   "execution_count": 7,
   "metadata": {},
   "outputs": [
    {
     "data": {
      "text/plain": [
       "Index([''71 (2015)', '5 Flights Up (2015)', 'A Little Chaos (2015)',\n",
       "       'A Most Violent Year (2014)', 'About Elly (2015)', 'Aloha (2015)',\n",
       "       'American Sniper (2015)', 'American Ultra (2015)', 'Amy (2015)',\n",
       "       'Annie (2014)',\n",
       "       ...\n",
       "       'Unbroken (2014)', 'Unfinished Business (2015)', 'Unfriended (2015)',\n",
       "       'Vacation (2015)', 'Welcome to Me (2015)',\n",
       "       'What We Do in the Shadows (2015)', 'When Marnie Was There (2015)',\n",
       "       'While We're Young (2015)', 'Wild Tales (2014)',\n",
       "       'Woman in Gold (2015)'],\n",
       "      dtype='object', length=146)"
      ]
     },
     "execution_count": 7,
     "metadata": {},
     "output_type": "execute_result"
    }
   ],
   "source": [
    "sorted_by_index = series_custom.reindex(index=sorted(original_index))\n",
    "sorted_by_index.index"
   ]
  },
  {
   "cell_type": "markdown",
   "metadata": {},
   "source": [
    "We just learned how to sort a Series object by the index using the `reindex()` method. This can be cumbersome if we just want to do some quick exploratory data analysis, or reorder by rating instead of film name.\n",
    "\n",
    "To make sorting easier, pandas comes with a `sort_index()` method that sorts a Series by index, and a `sort_values()` method that sorts a Series by its values. Since the values representing the Rotten Tomatoes scores are integers, sorting by values will return the data in numerically ascending order (low to high).\n",
    "\n",
    "In both cases, pandas preserves the link between each element's index (film name) and value (score). We call this data alignment, which is a key tenet of pandas that's incredibly important when analyzing data. Pandas allows us to assume the linking will be preserved, unless we specifically change a value or an index."
   ]
  },
  {
   "cell_type": "markdown",
   "metadata": {},
   "source": [
    "**Instruction**\n",
    "- Sort series_custom by index using sort_index(), and assign the result to the variable sc2.\n",
    "- Sort series_custom by values, and assign the result to the variable sc3.\n",
    "- Finally, print the first 10 values in sc2 and the first 10 values in sc3.\n"
   ]
  },
  {
   "cell_type": "code",
   "execution_count": 8,
   "metadata": {},
   "outputs": [
    {
     "name": "stdout",
     "output_type": "stream",
     "text": [
      "'71 (2015)                    97\n",
      "5 Flights Up (2015)           52\n",
      "A Little Chaos (2015)         40\n",
      "A Most Violent Year (2014)    90\n",
      "About Elly (2015)             97\n",
      "Aloha (2015)                  19\n",
      "American Sniper (2015)        72\n",
      "American Ultra (2015)         46\n",
      "Amy (2015)                    97\n",
      "Annie (2014)                  27\n",
      "dtype: int64\n",
      "\n",
      "Paul Blart: Mall Cop 2 (2015)     5\n",
      "Hitman: Agent 47 (2015)           7\n",
      "Hot Pursuit (2015)                8\n",
      "Fantastic Four (2015)             9\n",
      "Taken 3 (2015)                    9\n",
      "The Boy Next Door (2015)         10\n",
      "The Loft (2015)                  11\n",
      "Unfinished Business (2015)       11\n",
      "Mortdecai (2015)                 12\n",
      "Seventh Son (2015)               12\n",
      "dtype: int64\n"
     ]
    }
   ],
   "source": [
    "sc2 = series_custom.sort_index()\n",
    "sc3 = series_custom.sort_values()\n",
    "print(sc2[0:10])\n",
    "print()\n",
    "print(sc3[0:10])"
   ]
  },
  {
   "cell_type": "markdown",
   "metadata": {},
   "source": [
    "## Vectorized Operation\n",
    "A column is really a vector of values. For this reason, we often want to transform an entire column in a data set. Series objects offer robust support for vectorized operations, which enable us to run computations over an entire column very quickly.\n",
    "\n",
    "Since pandas builds on NumPy, it takes advantage of NumPy's vectorizaton capabilities. These capabilities generate incredibly optimized, low level code in the C programming language to loop over the values. Using a traditional for loop would be much slower, especially for large data sets.\n",
    "\n",
    "We can use any of the standard Python arithmetic operators (+, -, *, and /) to transform each of the values in a Series object. If we wanted to transform the Rotten Tomatoes scores from a 100-point scale to a 10-point scale, for example, we could use the Python division operator (/) to divide the Series by 10:\n",
    "\n",
    "\n",
    "\n",
    "\n"
   ]
  },
  {
   "cell_type": "code",
   "execution_count": 9,
   "metadata": {},
   "outputs": [
    {
     "data": {
      "text/plain": [
       "Avengers: Age of Ultron (2015)                     7.4\n",
       "Cinderella (2015)                                  8.5\n",
       "Ant-Man (2015)                                     8.0\n",
       "Do You Believe? (2015)                             1.8\n",
       "Hot Tub Time Machine 2 (2015)                      1.4\n",
       "The Water Diviner (2015)                           6.3\n",
       "Irrational Man (2015)                              4.2\n",
       "Top Five (2014)                                    8.6\n",
       "Shaun the Sheep Movie (2015)                       9.9\n",
       "Love & Mercy (2015)                                8.9\n",
       "Far From The Madding Crowd (2015)                  8.4\n",
       "Black Sea (2015)                                   8.2\n",
       "Leviathan (2014)                                   9.9\n",
       "Unbroken (2014)                                    5.1\n",
       "The Imitation Game (2014)                          9.0\n",
       "Taken 3 (2015)                                     0.9\n",
       "Ted 2 (2015)                                       4.6\n",
       "Southpaw (2015)                                    5.9\n",
       "Night at the Museum: Secret of the Tomb (2014)     5.0\n",
       "Pixels (2015)                                      1.7\n",
       "McFarland, USA (2015)                              7.9\n",
       "Insidious: Chapter 3 (2015)                        5.9\n",
       "The Man From U.N.C.L.E. (2015)                     6.8\n",
       "Run All Night (2015)                               6.0\n",
       "Trainwreck (2015)                                  8.5\n",
       "Selma (2014)                                       9.9\n",
       "Ex Machina (2015)                                  9.2\n",
       "Still Alice (2015)                                 8.8\n",
       "Wild Tales (2014)                                  9.6\n",
       "The End of the Tour (2015)                         9.2\n",
       "                                                  ... \n",
       "Clouds of Sils Maria (2015)                        8.9\n",
       "Testament of Youth (2015)                          8.1\n",
       "Infinitely Polar Bear (2015)                       8.0\n",
       "Phoenix (2015)                                     9.9\n",
       "The Wolfpack (2015)                                8.4\n",
       "The Stanford Prison Experiment (2015)              8.4\n",
       "Tangerine (2015)                                   9.5\n",
       "Magic Mike XXL (2015)                              6.2\n",
       "Home (2015)                                        4.5\n",
       "The Wedding Ringer (2015)                          2.7\n",
       "Woman in Gold (2015)                               5.2\n",
       "The Last Five Years (2015)                         6.0\n",
       "Mission: Impossible â€“ Rogue Nation (2015)        9.2\n",
       "Amy (2015)                                         9.7\n",
       "Jurassic World (2015)                              7.1\n",
       "Minions (2015)                                     5.4\n",
       "Max (2015)                                         3.5\n",
       "Paul Blart: Mall Cop 2 (2015)                      0.5\n",
       "The Longest Ride (2015)                            3.1\n",
       "The Lazarus Effect (2015)                          1.4\n",
       "The Woman In Black 2 Angel of Death (2015)         2.2\n",
       "Danny Collins (2015)                               7.7\n",
       "Spare Parts (2015)                                 5.2\n",
       "Serena (2015)                                      1.8\n",
       "Inside Out (2015)                                  9.8\n",
       "Mr. Holmes (2015)                                  8.7\n",
       "'71 (2015)                                         9.7\n",
       "Two Days, One Night (2014)                         9.7\n",
       "Gett: The Trial of Viviane Amsalem (2015)         10.0\n",
       "Kumiko, The Treasure Hunter (2015)                 8.7\n",
       "Length: 146, dtype: float64"
      ]
     },
     "execution_count": 9,
     "metadata": {},
     "output_type": "execute_result"
    }
   ],
   "source": [
    "series_custom/10"
   ]
  },
  {
   "cell_type": "markdown",
   "metadata": {},
   "source": [
    "This will return a new Series object where each value is 1/10 of the original value. We can even use NumPy functions to transform and run calculations over Series objects:"
   ]
  },
  {
   "cell_type": "code",
   "execution_count": 10,
   "metadata": {},
   "outputs": [
    {
     "data": {
      "text/plain": [
       "100"
      ]
     },
     "execution_count": 10,
     "metadata": {},
     "output_type": "execute_result"
    }
   ],
   "source": [
    "# Add each value with each other\n",
    "np.add(series_custom, series_custom)\n",
    "# Apply sine function to each value\n",
    "np.sin(series_custom)\n",
    "# Return the highest value (will return a single value, not a Series)\n",
    "np.max(series_custom)"
   ]
  },
  {
   "cell_type": "markdown",
   "metadata": {},
   "source": [
    "The values in a Series object are part of an `ndarray`, the core data type in NumPy. Applying some NumPy functions to a Series object will return a new Series object, while other functions will return a single value. NumPy's [documentation](https://docs.scipy.org/doc/numpy/reference/generated/numpy.sin.html#numpy.sin) gives us a good sense of the return value for each function. If a particular NumPy function usually returns an `ndarray`, it will return a Series object instead when we apply it to a Series.\n",
    "\n",
    "The original DataFrame contains the column `RT_norm`, which represents a normalized score (from 0 to 5) of the Rotten Tomatoes average critic score. Let's use vectorized operations to normalize `series_custom` back to the 0-5 scale."
   ]
  },
  {
   "cell_type": "markdown",
   "metadata": {},
   "source": [
    "**Instruction**\n",
    "- Normalize series_custom (which is currently on a 0 to 100-point scale) to a 0 to 5-point scale by dividing each value by 20.\n",
    "- Assign the new normalized Series object to series_normalized.\n"
   ]
  },
  {
   "cell_type": "code",
   "execution_count": 12,
   "metadata": {},
   "outputs": [
    {
     "data": {
      "text/plain": [
       "Avengers: Age of Ultron (2015)                    3.70\n",
       "Cinderella (2015)                                 4.25\n",
       "Ant-Man (2015)                                    4.00\n",
       "Do You Believe? (2015)                            0.90\n",
       "Hot Tub Time Machine 2 (2015)                     0.70\n",
       "The Water Diviner (2015)                          3.15\n",
       "Irrational Man (2015)                             2.10\n",
       "Top Five (2014)                                   4.30\n",
       "Shaun the Sheep Movie (2015)                      4.95\n",
       "Love & Mercy (2015)                               4.45\n",
       "Far From The Madding Crowd (2015)                 4.20\n",
       "Black Sea (2015)                                  4.10\n",
       "Leviathan (2014)                                  4.95\n",
       "Unbroken (2014)                                   2.55\n",
       "The Imitation Game (2014)                         4.50\n",
       "Taken 3 (2015)                                    0.45\n",
       "Ted 2 (2015)                                      2.30\n",
       "Southpaw (2015)                                   2.95\n",
       "Night at the Museum: Secret of the Tomb (2014)    2.50\n",
       "Pixels (2015)                                     0.85\n",
       "McFarland, USA (2015)                             3.95\n",
       "Insidious: Chapter 3 (2015)                       2.95\n",
       "The Man From U.N.C.L.E. (2015)                    3.40\n",
       "Run All Night (2015)                              3.00\n",
       "Trainwreck (2015)                                 4.25\n",
       "Selma (2014)                                      4.95\n",
       "Ex Machina (2015)                                 4.60\n",
       "Still Alice (2015)                                4.40\n",
       "Wild Tales (2014)                                 4.80\n",
       "The End of the Tour (2015)                        4.60\n",
       "                                                  ... \n",
       "Clouds of Sils Maria (2015)                       4.45\n",
       "Testament of Youth (2015)                         4.05\n",
       "Infinitely Polar Bear (2015)                      4.00\n",
       "Phoenix (2015)                                    4.95\n",
       "The Wolfpack (2015)                               4.20\n",
       "The Stanford Prison Experiment (2015)             4.20\n",
       "Tangerine (2015)                                  4.75\n",
       "Magic Mike XXL (2015)                             3.10\n",
       "Home (2015)                                       2.25\n",
       "The Wedding Ringer (2015)                         1.35\n",
       "Woman in Gold (2015)                              2.60\n",
       "The Last Five Years (2015)                        3.00\n",
       "Mission: Impossible â€“ Rogue Nation (2015)       4.60\n",
       "Amy (2015)                                        4.85\n",
       "Jurassic World (2015)                             3.55\n",
       "Minions (2015)                                    2.70\n",
       "Max (2015)                                        1.75\n",
       "Paul Blart: Mall Cop 2 (2015)                     0.25\n",
       "The Longest Ride (2015)                           1.55\n",
       "The Lazarus Effect (2015)                         0.70\n",
       "The Woman In Black 2 Angel of Death (2015)        1.10\n",
       "Danny Collins (2015)                              3.85\n",
       "Spare Parts (2015)                                2.60\n",
       "Serena (2015)                                     0.90\n",
       "Inside Out (2015)                                 4.90\n",
       "Mr. Holmes (2015)                                 4.35\n",
       "'71 (2015)                                        4.85\n",
       "Two Days, One Night (2014)                        4.85\n",
       "Gett: The Trial of Viviane Amsalem (2015)         5.00\n",
       "Kumiko, The Treasure Hunter (2015)                4.35\n",
       "Length: 146, dtype: float64"
      ]
     },
     "execution_count": 12,
     "metadata": {},
     "output_type": "execute_result"
    }
   ],
   "source": [
    "series_normalized = series_custom / 20 \n",
    "series_normalized"
   ]
  },
  {
   "cell_type": "markdown",
   "metadata": {},
   "source": [
    "## Comparing and Filtering\n",
    "Pandas uses vectorized operations for many tasks, such as filtering values within a single Series object and comparing two different Series objects. For example, to find all films with an average critic rating of 50 or above on Rotten Tomatoes, running:"
   ]
  },
  {
   "cell_type": "code",
   "execution_count": 14,
   "metadata": {},
   "outputs": [
    {
     "data": {
      "text/plain": [
       "Avengers: Age of Ultron (2015)                     True\n",
       "Cinderella (2015)                                  True\n",
       "Ant-Man (2015)                                     True\n",
       "Do You Believe? (2015)                            False\n",
       "Hot Tub Time Machine 2 (2015)                     False\n",
       "The Water Diviner (2015)                           True\n",
       "Irrational Man (2015)                             False\n",
       "Top Five (2014)                                    True\n",
       "Shaun the Sheep Movie (2015)                       True\n",
       "Love & Mercy (2015)                                True\n",
       "Far From The Madding Crowd (2015)                  True\n",
       "Black Sea (2015)                                   True\n",
       "Leviathan (2014)                                   True\n",
       "Unbroken (2014)                                    True\n",
       "The Imitation Game (2014)                          True\n",
       "Taken 3 (2015)                                    False\n",
       "Ted 2 (2015)                                      False\n",
       "Southpaw (2015)                                    True\n",
       "Night at the Museum: Secret of the Tomb (2014)    False\n",
       "Pixels (2015)                                     False\n",
       "McFarland, USA (2015)                              True\n",
       "Insidious: Chapter 3 (2015)                        True\n",
       "The Man From U.N.C.L.E. (2015)                     True\n",
       "Run All Night (2015)                               True\n",
       "Trainwreck (2015)                                  True\n",
       "Selma (2014)                                       True\n",
       "Ex Machina (2015)                                  True\n",
       "Still Alice (2015)                                 True\n",
       "Wild Tales (2014)                                  True\n",
       "The End of the Tour (2015)                         True\n",
       "                                                  ...  \n",
       "Clouds of Sils Maria (2015)                        True\n",
       "Testament of Youth (2015)                          True\n",
       "Infinitely Polar Bear (2015)                       True\n",
       "Phoenix (2015)                                     True\n",
       "The Wolfpack (2015)                                True\n",
       "The Stanford Prison Experiment (2015)              True\n",
       "Tangerine (2015)                                   True\n",
       "Magic Mike XXL (2015)                              True\n",
       "Home (2015)                                       False\n",
       "The Wedding Ringer (2015)                         False\n",
       "Woman in Gold (2015)                               True\n",
       "The Last Five Years (2015)                         True\n",
       "Mission: Impossible â€“ Rogue Nation (2015)        True\n",
       "Amy (2015)                                         True\n",
       "Jurassic World (2015)                              True\n",
       "Minions (2015)                                     True\n",
       "Max (2015)                                        False\n",
       "Paul Blart: Mall Cop 2 (2015)                     False\n",
       "The Longest Ride (2015)                           False\n",
       "The Lazarus Effect (2015)                         False\n",
       "The Woman In Black 2 Angel of Death (2015)        False\n",
       "Danny Collins (2015)                               True\n",
       "Spare Parts (2015)                                 True\n",
       "Serena (2015)                                     False\n",
       "Inside Out (2015)                                  True\n",
       "Mr. Holmes (2015)                                  True\n",
       "'71 (2015)                                         True\n",
       "Two Days, One Night (2014)                         True\n",
       "Gett: The Trial of Viviane Amsalem (2015)          True\n",
       "Kumiko, The Treasure Hunter (2015)                 True\n",
       "Length: 146, dtype: bool"
      ]
     },
     "execution_count": 14,
     "metadata": {},
     "output_type": "execute_result"
    }
   ],
   "source": [
    "# Returns a series object with a boolean value for each film (as the Series Index)\n",
    "series_custom > 50"
   ]
  },
  {
   "cell_type": "markdown",
   "metadata": {},
   "source": [
    "will actually return a Series object with a Boolean value for each film. That's because pandas applies the filter (> 50) to each value in the Series object. To retrieve the actual film names, we need to pass this Boolean series into the original Series object."
   ]
  },
  {
   "cell_type": "code",
   "execution_count": 16,
   "metadata": {},
   "outputs": [
    {
     "data": {
      "text/plain": [
       "Avengers: Age of Ultron (2015)                                             74\n",
       "Cinderella (2015)                                                          85\n",
       "Ant-Man (2015)                                                             80\n",
       "The Water Diviner (2015)                                                   63\n",
       "Top Five (2014)                                                            86\n",
       "Shaun the Sheep Movie (2015)                                               99\n",
       "Love & Mercy (2015)                                                        89\n",
       "Far From The Madding Crowd (2015)                                          84\n",
       "Black Sea (2015)                                                           82\n",
       "Leviathan (2014)                                                           99\n",
       "Unbroken (2014)                                                            51\n",
       "The Imitation Game (2014)                                                  90\n",
       "Southpaw (2015)                                                            59\n",
       "McFarland, USA (2015)                                                      79\n",
       "Insidious: Chapter 3 (2015)                                                59\n",
       "The Man From U.N.C.L.E. (2015)                                             68\n",
       "Run All Night (2015)                                                       60\n",
       "Trainwreck (2015)                                                          85\n",
       "Selma (2014)                                                               99\n",
       "Ex Machina (2015)                                                          92\n",
       "Still Alice (2015)                                                         88\n",
       "Wild Tales (2014)                                                          96\n",
       "The End of the Tour (2015)                                                 92\n",
       "Red Army (2015)                                                            96\n",
       "When Marnie Was There (2015)                                               89\n",
       "The Hunting Ground (2015)                                                  92\n",
       "5 Flights Up (2015)                                                        52\n",
       "Welcome to Me (2015)                                                       71\n",
       "Saint Laurent (2015)                                                       51\n",
       "Maps to the Stars (2015)                                                   60\n",
       "                                                                         ... \n",
       "The Second Best Exotic Marigold Hotel (2015)                               62\n",
       "The 100-Year-Old Man Who Climbed Out the Window and Disappeared (2015)     67\n",
       "Escobar: Paradise Lost (2015)                                              52\n",
       "Into the Woods (2014)                                                      71\n",
       "It Follows (2015)                                                          96\n",
       "Inherent Vice (2014)                                                       73\n",
       "A Most Violent Year (2014)                                                 90\n",
       "While We're Young (2015)                                                   83\n",
       "Clouds of Sils Maria (2015)                                                89\n",
       "Testament of Youth (2015)                                                  81\n",
       "Infinitely Polar Bear (2015)                                               80\n",
       "Phoenix (2015)                                                             99\n",
       "The Wolfpack (2015)                                                        84\n",
       "The Stanford Prison Experiment (2015)                                      84\n",
       "Tangerine (2015)                                                           95\n",
       "Magic Mike XXL (2015)                                                      62\n",
       "Woman in Gold (2015)                                                       52\n",
       "The Last Five Years (2015)                                                 60\n",
       "Mission: Impossible â€“ Rogue Nation (2015)                                92\n",
       "Amy (2015)                                                                 97\n",
       "Jurassic World (2015)                                                      71\n",
       "Minions (2015)                                                             54\n",
       "Danny Collins (2015)                                                       77\n",
       "Spare Parts (2015)                                                         52\n",
       "Inside Out (2015)                                                          98\n",
       "Mr. Holmes (2015)                                                          87\n",
       "'71 (2015)                                                                 97\n",
       "Two Days, One Night (2014)                                                 97\n",
       "Gett: The Trial of Viviane Amsalem (2015)                                 100\n",
       "Kumiko, The Treasure Hunter (2015)                                         87\n",
       "Length: 94, dtype: int64"
      ]
     },
     "execution_count": 16,
     "metadata": {},
     "output_type": "execute_result"
    }
   ],
   "source": [
    "series_greater_than_50 = series_custom[series_custom > 50]\n",
    "series_greater_than_50"
   ]
  },
  {
   "cell_type": "markdown",
   "metadata": {},
   "source": [
    "Pandas returns Boolean Series objects that serve as intermediate representations of the logic. These objects make it easier to separate complex logic into modular pieces. We can specify filtering criteria in different variables, then chain them together with the and operator (&) or the or operator (|). Finally, we can use a Series object's bracket notation to pass in an expression representing a Boolean Series object and get back the filtered data set."
   ]
  },
  {
   "cell_type": "markdown",
   "metadata": {},
   "source": [
    "**Instruction**\n",
    "\n",
    "- In the following code cell, the criteria_one and criteria_two statements return Boolean Series objects.\n",
    "- Return a filtered Series object named both_criteria that only contains the values where both criteria are true. Use bracket notation and the & operator to obtain this Series object.\n"
   ]
  },
  {
   "cell_type": "code",
   "execution_count": 18,
   "metadata": {},
   "outputs": [
    {
     "data": {
      "text/plain": [
       "Avengers: Age of Ultron (2015)                                            74\n",
       "The Water Diviner (2015)                                                  63\n",
       "Unbroken (2014)                                                           51\n",
       "Southpaw (2015)                                                           59\n",
       "Insidious: Chapter 3 (2015)                                               59\n",
       "The Man From U.N.C.L.E. (2015)                                            68\n",
       "Run All Night (2015)                                                      60\n",
       "5 Flights Up (2015)                                                       52\n",
       "Welcome to Me (2015)                                                      71\n",
       "Saint Laurent (2015)                                                      51\n",
       "Maps to the Stars (2015)                                                  60\n",
       "Pitch Perfect 2 (2015)                                                    67\n",
       "The Age of Adaline (2015)                                                 54\n",
       "The DUFF (2015)                                                           71\n",
       "Ricki and the Flash (2015)                                                64\n",
       "Unfriended (2015)                                                         60\n",
       "American Sniper (2015)                                                    72\n",
       "The Hobbit: The Battle of the Five Armies (2014)                          61\n",
       "Paper Towns (2015)                                                        55\n",
       "Big Eyes (2014)                                                           72\n",
       "Maggie (2015)                                                             54\n",
       "Focus (2015)                                                              57\n",
       "The Second Best Exotic Marigold Hotel (2015)                              62\n",
       "The 100-Year-Old Man Who Climbed Out the Window and Disappeared (2015)    67\n",
       "Escobar: Paradise Lost (2015)                                             52\n",
       "Into the Woods (2014)                                                     71\n",
       "Inherent Vice (2014)                                                      73\n",
       "Magic Mike XXL (2015)                                                     62\n",
       "Woman in Gold (2015)                                                      52\n",
       "The Last Five Years (2015)                                                60\n",
       "Jurassic World (2015)                                                     71\n",
       "Minions (2015)                                                            54\n",
       "Spare Parts (2015)                                                        52\n",
       "dtype: int64"
      ]
     },
     "execution_count": 18,
     "metadata": {},
     "output_type": "execute_result"
    }
   ],
   "source": [
    "criteria_one = series_custom > 50\n",
    "criteria_two = series_custom < 75\n",
    "both_criteria = series_custom[(series_custom > 50) & (series_custom < 75)]\n",
    "both_criteria"
   ]
  },
  {
   "cell_type": "markdown",
   "metadata": {},
   "source": [
    "## Data alignment\n",
    "One of pandas' core tenets is data alignment. Series objects align along indices, and DataFrame objects align along both indices and columns. With Series objects, pandas implicitly preserves the link between the index labels and the values across operations and transformations, unless we explicitly break it. With DataFrame objects, the values link to the index labels and the column labels. Pandas also preserves these links, unless we explicitly break them (by reassigning or editing a column or index label, for example).\n",
    "\n",
    "This core tenet allows us to use pandas effectively when working with data, and offers a big advantage over using NumPy objects. For Series objects in particular, this means we can use the standard Python arithmetic operators (+, -, *, and /) to add, subtract, multiply, and divide the values at each index label for two different Series objects.\n",
    "\n",
    "Let's use this functionality to calculate the mean ratings from both critics and users on Rotten Tomatoes."
   ]
  },
  {
   "cell_type": "markdown",
   "metadata": {},
   "source": [
    "** Instruction **\n",
    "- rt_critics and rt_users are Series objects containing the average ratings from critics and users for each film.\n",
    "- Both Series objects use the same custom string index, which they base on the film names. Use the Python arithmetic operators to return a new Series object, rt_mean, that contains the mean ratings from both critics and users for each film.\n"
   ]
  },
  {
   "cell_type": "code",
   "execution_count": 25,
   "metadata": {},
   "outputs": [
    {
     "data": {
      "text/plain": [
       "FILM\n",
       "Avengers: Age of Ultron (2015)    74\n",
       "Cinderella (2015)                 85\n",
       "Ant-Man (2015)                    80\n",
       "dtype: int64"
      ]
     },
     "execution_count": 25,
     "metadata": {},
     "output_type": "execute_result"
    }
   ],
   "source": [
    "rt_critics = Series(fandango['RottenTomatoes'].values, index=fandango['FILM'])\n",
    "rt_users = Series(fandango['RottenTomatoes_User'].values, index=fandango['FILM'])\n",
    "rt_critics.head(3)"
   ]
  },
  {
   "cell_type": "code",
   "execution_count": 24,
   "metadata": {},
   "outputs": [
    {
     "data": {
      "text/plain": [
       "FILM\n",
       "Avengers: Age of Ultron (2015)    86\n",
       "Cinderella (2015)                 80\n",
       "Ant-Man (2015)                    90\n",
       "dtype: int64"
      ]
     },
     "execution_count": 24,
     "metadata": {},
     "output_type": "execute_result"
    }
   ],
   "source": [
    "rt_users.head(3)"
   ]
  },
  {
   "cell_type": "code",
   "execution_count": null,
   "metadata": {},
   "outputs": [],
   "source": [
    "rt_mean = rt_critics + rt"
   ]
  }
 ],
 "metadata": {
  "kernelspec": {
   "display_name": "Python 3",
   "language": "python",
   "name": "python3"
  },
  "language_info": {
   "codemirror_mode": {
    "name": "ipython",
    "version": 3
   },
   "file_extension": ".py",
   "mimetype": "text/x-python",
   "name": "python",
   "nbconvert_exporter": "python",
   "pygments_lexer": "ipython3",
   "version": "3.6.4"
  }
 },
 "nbformat": 4,
 "nbformat_minor": 2
}
