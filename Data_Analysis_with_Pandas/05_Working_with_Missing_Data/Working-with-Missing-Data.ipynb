{
 "cells": [
  {
   "cell_type": "markdown",
   "metadata": {},
   "source": [
    "## Python Version"
   ]
  },
  {
   "cell_type": "code",
   "execution_count": 1,
   "metadata": {},
   "outputs": [
    {
     "name": "stdout",
     "output_type": "stream",
     "text": [
      "Python 3.6.4 :: Anaconda custom (64-bit)\r\n"
     ]
    }
   ],
   "source": [
    "!python --version"
   ]
  },
  {
   "cell_type": "markdown",
   "metadata": {},
   "source": [
    "## Mission\n",
    "In this mission, we'll dive into how to work with missing values, use pivot tables, and calculate summary statistics"
   ]
  },
  {
   "cell_type": "markdown",
   "metadata": {},
   "source": [
    "## Import data\n",
    "- Read file \n",
    "<br><br>\n",
    "read_csv takes an encoding option to deal with files in different formats. I mostly use read_csv('file', encoding = \"ISO-8859-1\"), or alternatively encoding = \"utf8\" for reading, and generally utf-8 for to_csv.\n",
    "\n",
    "You can also use the alias 'latin1' instead of 'ISO-8859-1'."
   ]
  },
  {
   "cell_type": "code",
   "execution_count": 2,
   "metadata": {},
   "outputs": [
    {
     "name": "stdout",
     "output_type": "stream",
     "text": [
      "['pclass', 'survived', 'name', 'sex', 'age', 'sibsp', 'parch', 'ticket', 'fare', 'cabin', 'embarked', 'boat', 'body', 'home.dest']\n"
     ]
    },
    {
     "data": {
      "text/html": [
       "<div>\n",
       "<style scoped>\n",
       "    .dataframe tbody tr th:only-of-type {\n",
       "        vertical-align: middle;\n",
       "    }\n",
       "\n",
       "    .dataframe tbody tr th {\n",
       "        vertical-align: top;\n",
       "    }\n",
       "\n",
       "    .dataframe thead th {\n",
       "        text-align: right;\n",
       "    }\n",
       "</style>\n",
       "<table border=\"1\" class=\"dataframe\">\n",
       "  <thead>\n",
       "    <tr style=\"text-align: right;\">\n",
       "      <th></th>\n",
       "      <th>pclass</th>\n",
       "      <th>survived</th>\n",
       "      <th>name</th>\n",
       "      <th>sex</th>\n",
       "      <th>age</th>\n",
       "      <th>sibsp</th>\n",
       "      <th>parch</th>\n",
       "      <th>ticket</th>\n",
       "      <th>fare</th>\n",
       "      <th>cabin</th>\n",
       "      <th>embarked</th>\n",
       "      <th>boat</th>\n",
       "      <th>body</th>\n",
       "      <th>home.dest</th>\n",
       "    </tr>\n",
       "  </thead>\n",
       "  <tbody>\n",
       "    <tr>\n",
       "      <th>0</th>\n",
       "      <td>3</td>\n",
       "      <td>0</td>\n",
       "      <td>Abbing, Mr. Anthony</td>\n",
       "      <td>male</td>\n",
       "      <td>42.0</td>\n",
       "      <td>0</td>\n",
       "      <td>0</td>\n",
       "      <td>C.A. 5547</td>\n",
       "      <td>7.55</td>\n",
       "      <td>NaN</td>\n",
       "      <td>S</td>\n",
       "      <td>NaN</td>\n",
       "      <td>NaN</td>\n",
       "      <td>NaN</td>\n",
       "    </tr>\n",
       "    <tr>\n",
       "      <th>1</th>\n",
       "      <td>3</td>\n",
       "      <td>0</td>\n",
       "      <td>Abbott, Master. Eugene Joseph</td>\n",
       "      <td>male</td>\n",
       "      <td>13.0</td>\n",
       "      <td>0</td>\n",
       "      <td>2</td>\n",
       "      <td>C.A. 2673</td>\n",
       "      <td>20.25</td>\n",
       "      <td>NaN</td>\n",
       "      <td>S</td>\n",
       "      <td>NaN</td>\n",
       "      <td>NaN</td>\n",
       "      <td>East Providence, RI</td>\n",
       "    </tr>\n",
       "    <tr>\n",
       "      <th>2</th>\n",
       "      <td>3</td>\n",
       "      <td>0</td>\n",
       "      <td>Abbott, Mr. Rossmore Edward</td>\n",
       "      <td>male</td>\n",
       "      <td>16.0</td>\n",
       "      <td>1</td>\n",
       "      <td>1</td>\n",
       "      <td>C.A. 2673</td>\n",
       "      <td>20.25</td>\n",
       "      <td>NaN</td>\n",
       "      <td>S</td>\n",
       "      <td>NaN</td>\n",
       "      <td>190.0</td>\n",
       "      <td>East Providence, RI</td>\n",
       "    </tr>\n",
       "  </tbody>\n",
       "</table>\n",
       "</div>"
      ],
      "text/plain": [
       "   pclass  survived                           name   sex   age  sibsp  parch  \\\n",
       "0       3         0            Abbing, Mr. Anthony  male  42.0      0      0   \n",
       "1       3         0  Abbott, Master. Eugene Joseph  male  13.0      0      2   \n",
       "2       3         0    Abbott, Mr. Rossmore Edward  male  16.0      1      1   \n",
       "\n",
       "      ticket   fare cabin embarked boat   body            home.dest  \n",
       "0  C.A. 5547   7.55   NaN        S  NaN    NaN                  NaN  \n",
       "1  C.A. 2673  20.25   NaN        S  NaN    NaN  East Providence, RI  \n",
       "2  C.A. 2673  20.25   NaN        S  NaN  190.0  East Providence, RI  "
      ]
     },
     "execution_count": 2,
     "metadata": {},
     "output_type": "execute_result"
    }
   ],
   "source": [
    "import pandas as pd\n",
    "titanic_survival = pd.read_csv(\"titanic_survival.csv\", encoding = \"latin1\")\n",
    "col_names = titanic_survival.columns.tolist()\n",
    "print(col_names)\n",
    "titanic_survival.head(3)"
   ]
  },
  {
   "cell_type": "markdown",
   "metadata": {},
   "source": [
    "Each row contains information for a specific Titanic passenger.\n",
    "Here are the first few rows of the dataset:\n",
    "\n",
    "Lets take a closer look at a few of the key columns:\n",
    "\n",
    "    pclass -- The passenger's cabin class from 1 to 3 where 1 was the highest class\n",
    "    survived -- 1 if the passenger survived, and 0 if they did not.\n",
    "    sex -- The passenger's gender\n",
    "    age -- The passenger's age\n",
    "    fare -- The amount the passenger paid for their ticket\n",
    "    embarked -- Either C, Q, or S, to indicate which port the passenger boarded the ship from.\n",
    "\n",
    "Many of the columns, such as age and sex, have missing values."
   ]
  },
  {
   "cell_type": "markdown",
   "metadata": {},
   "source": [
    "## Missing data\n",
    "\n",
    "Missing data can take a few different forms:\n",
    "\n",
    "    - In Python, the None keyword and type indicates no value.\n",
    "    - The Pandas library uses NaN, which stands for \"not a number\", to indicate a missing value.\n",
    "\n",
    "In general terms, both NaN and None can be called null values.\n",
    "\n",
    "If we want to see which values are NaN, we can use the pandas.isnull() function which takes a pandas series and returns a series of True and False values, the same way that NumPy did when we compared arrays."
   ]
  },
  {
   "cell_type": "code",
   "execution_count": 3,
   "metadata": {},
   "outputs": [],
   "source": [
    "sex = titanic_survival[\"sex\"]\n",
    "sex_is_null = pd.isnull(sex)"
   ]
  },
  {
   "cell_type": "markdown",
   "metadata": {},
   "source": [
    "We can use this resultant series to select only the rows that have null values."
   ]
  },
  {
   "cell_type": "code",
   "execution_count": 4,
   "metadata": {},
   "outputs": [
    {
     "data": {
      "text/html": [
       "<div>\n",
       "<style scoped>\n",
       "    .dataframe tbody tr th:only-of-type {\n",
       "        vertical-align: middle;\n",
       "    }\n",
       "\n",
       "    .dataframe tbody tr th {\n",
       "        vertical-align: top;\n",
       "    }\n",
       "\n",
       "    .dataframe thead th {\n",
       "        text-align: right;\n",
       "    }\n",
       "</style>\n",
       "<table border=\"1\" class=\"dataframe\">\n",
       "  <thead>\n",
       "    <tr style=\"text-align: right;\">\n",
       "      <th></th>\n",
       "      <th>pclass</th>\n",
       "      <th>survived</th>\n",
       "      <th>name</th>\n",
       "      <th>sex</th>\n",
       "      <th>age</th>\n",
       "      <th>sibsp</th>\n",
       "      <th>parch</th>\n",
       "      <th>ticket</th>\n",
       "      <th>fare</th>\n",
       "      <th>cabin</th>\n",
       "      <th>embarked</th>\n",
       "      <th>boat</th>\n",
       "      <th>body</th>\n",
       "      <th>home.dest</th>\n",
       "    </tr>\n",
       "  </thead>\n",
       "  <tbody>\n",
       "  </tbody>\n",
       "</table>\n",
       "</div>"
      ],
      "text/plain": [
       "Empty DataFrame\n",
       "Columns: [pclass, survived, name, sex, age, sibsp, parch, ticket, fare, cabin, embarked, boat, body, home.dest]\n",
       "Index: []"
      ]
     },
     "execution_count": 4,
     "metadata": {},
     "output_type": "execute_result"
    }
   ],
   "source": [
    "sex_null_true = sex[sex_is_null]\n",
    "titanic_survival[sex_is_null]"
   ]
  },
  {
   "cell_type": "markdown",
   "metadata": {},
   "source": [
    "**Instruction:**\n",
    "\n",
    "- Count how many values in the \"age\" column have null values:\n",
    "    - Use pandas.isnull() on age variable to create a Series of True and False values.\n",
    "    - Use the resulting series to select only the elements in age that are null, and assign the result to age_null_true\n",
    "- Assign the length of age_null_true to age_null_count.\n",
    "    - Print age_null_count to see how many null values are in the \"age\" column.\n",
    "\n"
   ]
  },
  {
   "cell_type": "code",
   "execution_count": 5,
   "metadata": {},
   "outputs": [
    {
     "name": "stdout",
     "output_type": "stream",
     "text": [
      "age_null_count is 263\n"
     ]
    },
    {
     "data": {
      "text/html": [
       "<div>\n",
       "<style scoped>\n",
       "    .dataframe tbody tr th:only-of-type {\n",
       "        vertical-align: middle;\n",
       "    }\n",
       "\n",
       "    .dataframe tbody tr th {\n",
       "        vertical-align: top;\n",
       "    }\n",
       "\n",
       "    .dataframe thead th {\n",
       "        text-align: right;\n",
       "    }\n",
       "</style>\n",
       "<table border=\"1\" class=\"dataframe\">\n",
       "  <thead>\n",
       "    <tr style=\"text-align: right;\">\n",
       "      <th></th>\n",
       "      <th>pclass</th>\n",
       "      <th>survived</th>\n",
       "      <th>name</th>\n",
       "      <th>sex</th>\n",
       "      <th>age</th>\n",
       "      <th>sibsp</th>\n",
       "      <th>parch</th>\n",
       "      <th>ticket</th>\n",
       "      <th>fare</th>\n",
       "      <th>cabin</th>\n",
       "      <th>embarked</th>\n",
       "      <th>boat</th>\n",
       "      <th>body</th>\n",
       "      <th>home.dest</th>\n",
       "    </tr>\n",
       "  </thead>\n",
       "  <tbody>\n",
       "    <tr>\n",
       "      <th>97</th>\n",
       "      <td>1</td>\n",
       "      <td>0</td>\n",
       "      <td>Baumann, Mr. John D</td>\n",
       "      <td>male</td>\n",
       "      <td>NaN</td>\n",
       "      <td>0</td>\n",
       "      <td>0</td>\n",
       "      <td>PC 17318</td>\n",
       "      <td>25.9250</td>\n",
       "      <td>NaN</td>\n",
       "      <td>S</td>\n",
       "      <td>NaN</td>\n",
       "      <td>NaN</td>\n",
       "      <td>New York, NY</td>\n",
       "    </tr>\n",
       "    <tr>\n",
       "      <th>118</th>\n",
       "      <td>3</td>\n",
       "      <td>0</td>\n",
       "      <td>Betros, Master. Seman</td>\n",
       "      <td>male</td>\n",
       "      <td>NaN</td>\n",
       "      <td>0</td>\n",
       "      <td>0</td>\n",
       "      <td>2622</td>\n",
       "      <td>7.2292</td>\n",
       "      <td>NaN</td>\n",
       "      <td>C</td>\n",
       "      <td>NaN</td>\n",
       "      <td>NaN</td>\n",
       "      <td>NaN</td>\n",
       "    </tr>\n",
       "    <tr>\n",
       "      <th>139</th>\n",
       "      <td>3</td>\n",
       "      <td>0</td>\n",
       "      <td>Boulos, Mr. Hanna</td>\n",
       "      <td>male</td>\n",
       "      <td>NaN</td>\n",
       "      <td>0</td>\n",
       "      <td>0</td>\n",
       "      <td>2664</td>\n",
       "      <td>7.2250</td>\n",
       "      <td>NaN</td>\n",
       "      <td>C</td>\n",
       "      <td>NaN</td>\n",
       "      <td>NaN</td>\n",
       "      <td>Syria</td>\n",
       "    </tr>\n",
       "  </tbody>\n",
       "</table>\n",
       "</div>"
      ],
      "text/plain": [
       "     pclass  survived                   name   sex  age  sibsp  parch  \\\n",
       "97        1         0    Baumann, Mr. John D  male  NaN      0      0   \n",
       "118       3         0  Betros, Master. Seman  male  NaN      0      0   \n",
       "139       3         0      Boulos, Mr. Hanna  male  NaN      0      0   \n",
       "\n",
       "       ticket     fare cabin embarked boat  body     home.dest  \n",
       "97   PC 17318  25.9250   NaN        S  NaN   NaN  New York, NY  \n",
       "118      2622   7.2292   NaN        C  NaN   NaN           NaN  \n",
       "139      2664   7.2250   NaN        C  NaN   NaN         Syria  "
      ]
     },
     "execution_count": 5,
     "metadata": {},
     "output_type": "execute_result"
    }
   ],
   "source": [
    "age = titanic_survival[\"age\"]\n",
    "# Series of age is null contains either True or False\n",
    "age_is_null = pd.isnull(age)\n",
    "\n",
    "# DataFrame of age is null \n",
    "df_age_null = titanic_survival[age_is_null]\n",
    "\n",
    "# Series of age is null == True \n",
    "age_null_true = age[age_is_null]\n",
    "\n",
    "age_null_count = len(age_null_true) # or len(df_age_null)\n",
    "print(\"age_null_count is\", age_null_count)\n",
    "df_age_null.head(3)"
   ]
  },
  {
   "cell_type": "markdown",
   "metadata": {},
   "source": [
    "**Instruction:**\n",
    "\n",
    "- mean_age = sum(titanic_survival[\"age\"])/ len(titanic_survival[\"age\"])\n",
    "- Use age_is_null to create a vector that only contains values from the \"age\" column that aren't NaN.\n",
    "- Calculate the mean of the new vector, and assign the result to correct_mean_age"
   ]
  },
  {
   "cell_type": "code",
   "execution_count": 6,
   "metadata": {},
   "outputs": [
    {
     "name": "stdout",
     "output_type": "stream",
     "text": [
      "correct_mean_age is 29.8811345124283\n"
     ]
    }
   ],
   "source": [
    "# Series of Age is null = True or False\n",
    "age_is_null = pd.isnull(titanic_survival[\"age\"]) # or pd.isnull(age)\n",
    "\n",
    "# Series of Age is not null that contains numerical values \n",
    "age_not_null = titanic_survival[\"age\"][age_is_null == False] # or age[age_is_null == False]\n",
    "\n",
    "# Compute mean age \n",
    "correct_mean_age = age_not_null.sum()/len(age_not_null)\n",
    "print(\"correct_mean_age is\", correct_mean_age)"
   ]
  },
  {
   "cell_type": "markdown",
   "metadata": {},
   "source": [
    "## Mean\n",
    "To calculate the mean age, we can replace all of our code with one line"
   ]
  },
  {
   "cell_type": "code",
   "execution_count": 7,
   "metadata": {},
   "outputs": [
    {
     "name": "stdout",
     "output_type": "stream",
     "text": [
      "correct_mean_age is 29.8811345124283\n"
     ]
    }
   ],
   "source": [
    "# Compute mean age \n",
    "correct_mean_age = titanic_survival[\"age\"].mean()\n",
    "print(\"correct_mean_age is\", correct_mean_age)"
   ]
  },
  {
   "cell_type": "markdown",
   "metadata": {},
   "source": [
    "**Instruction**\n",
    "- Assign the mean of the \"fare\" column to correct_mean_fare"
   ]
  },
  {
   "cell_type": "code",
   "execution_count": 8,
   "metadata": {},
   "outputs": [
    {
     "name": "stdout",
     "output_type": "stream",
     "text": [
      "correct_mean_fare is 33.29547928134565\n"
     ]
    }
   ],
   "source": [
    "# Compute mean age \n",
    "correct_mean_fare = titanic_survival[\"fare\"].mean()\n",
    "print(\"correct_mean_fare is\", correct_mean_fare)"
   ]
  },
  {
   "cell_type": "markdown",
   "metadata": {},
   "source": [
    "## Summary Statistics\n",
    "Let's calculate more summary statistics for the data. The pclass column indicates the cabin class for each passenger, which was either first class (1), second class (2), or third class (3). You'll use the list passenger_classes, which contains these values, in the following exercise.\n",
    "\n",
    "**Instruction:**\n",
    "- Use a for loop to iterate over passenger_classes. Within the for loop:\n",
    "    - Select just the rows in titanic_survival where the pclass value is equivalent to the current iterator value (class).\n",
    "    - Select just the fare column for the current subset of rows.\n",
    "    - Use the Series.mean method to calculate the mean of this subset.\n",
    "    - Add the mean of the class to the fares_by_class dictionary with class as the key.\n",
    "- Once the loop completes, the dictionary fares_by_class should have 1, 2, and 3 as keys, with the average fares as the corresponding values."
   ]
  },
  {
   "cell_type": "code",
   "execution_count": 9,
   "metadata": {},
   "outputs": [
    {
     "name": "stdout",
     "output_type": "stream",
     "text": [
      "pclass 1 average fare is 87.50899164086687\n",
      "pclass 2 average fare is 21.1791963898917\n",
      "pclass 3 average fare is 13.302888700564957\n"
     ]
    }
   ],
   "source": [
    "passenger_classes = [1, 2, 3]\n",
    "fares_by_class = {}\n",
    "\n",
    "for pclass in passenger_classes:\n",
    "    pclass_fare = titanic_survival[\"fare\"][titanic_survival[\"pclass\"] == pclass]\n",
    "    fares_by_class[pclass] = pclass_fare.mean()\n",
    "    \n",
    "for pclass, fare in fares_by_class.items():\n",
    "    print(\"pclass\", pclass, \"average fare is\", fare)"
   ]
  },
  {
   "cell_type": "markdown",
   "metadata": {},
   "source": [
    "## Pivot Tables\n",
    "Pivot tables provide an easy way to subset by one column and then apply a calculation like a sum or a mean. The concept of Pivot tables was popularized with the introduction of the 'PivotTable' feature in Microsoft Excel in the mid 1990's.\n",
    "\n",
    "Pivot tables first group and then apply a calculation. In the previous screen, we actually made a pivot table manually by grouping by the column \"pclass\" and then calculating the mean of the \"fare\" column for each class.\n",
    "\n",
    "Luckily, we can use the Dataframe.pivot_table() method instead, which simplifies the kind of work we did on the last screen. To produce the same data, we could use one line."
   ]
  },
  {
   "cell_type": "code",
   "execution_count": 10,
   "metadata": {},
   "outputs": [
    {
     "data": {
      "text/html": [
       "<div>\n",
       "<style scoped>\n",
       "    .dataframe tbody tr th:only-of-type {\n",
       "        vertical-align: middle;\n",
       "    }\n",
       "\n",
       "    .dataframe tbody tr th {\n",
       "        vertical-align: top;\n",
       "    }\n",
       "\n",
       "    .dataframe thead th {\n",
       "        text-align: right;\n",
       "    }\n",
       "</style>\n",
       "<table border=\"1\" class=\"dataframe\">\n",
       "  <thead>\n",
       "    <tr style=\"text-align: right;\">\n",
       "      <th></th>\n",
       "      <th>fare</th>\n",
       "    </tr>\n",
       "    <tr>\n",
       "      <th>pclass</th>\n",
       "      <th></th>\n",
       "    </tr>\n",
       "  </thead>\n",
       "  <tbody>\n",
       "    <tr>\n",
       "      <th>1</th>\n",
       "      <td>87.508992</td>\n",
       "    </tr>\n",
       "    <tr>\n",
       "      <th>2</th>\n",
       "      <td>21.179196</td>\n",
       "    </tr>\n",
       "    <tr>\n",
       "      <th>3</th>\n",
       "      <td>13.302889</td>\n",
       "    </tr>\n",
       "  </tbody>\n",
       "</table>\n",
       "</div>"
      ],
      "text/plain": [
       "             fare\n",
       "pclass           \n",
       "1       87.508992\n",
       "2       21.179196\n",
       "3       13.302889"
      ]
     },
     "execution_count": 10,
     "metadata": {},
     "output_type": "execute_result"
    }
   ],
   "source": [
    "import numpy as np\n",
    "passenger_class_fares = titanic_survival.pivot_table(index=\"pclass\", values=\"fare\", aggfunc=np.mean)\n",
    "passenger_class_fares"
   ]
  },
  {
   "cell_type": "markdown",
   "metadata": {},
   "source": [
    "The first parameter of the method, index tells the method which column to group by. The second parameter values is the column that we want to apply the calculation to, and aggfunc specifies the calculation we want to perform. The default for the aggfunc parameter is actually the mean, so if we're calculating this we can omit this parameter."
   ]
  },
  {
   "cell_type": "markdown",
   "metadata": {},
   "source": [
    "**Instruction**\n",
    "- Use the DataFrame.pivot_table() method to calculate the mean age for each passenger class (\"pclass\").\n",
    "- Assign the result to passenger_age.\n",
    "- Display the passenger_age pivot table using the print() function."
   ]
  },
  {
   "cell_type": "code",
   "execution_count": 11,
   "metadata": {},
   "outputs": [
    {
     "name": "stdout",
     "output_type": "stream",
     "text": [
      "        survived\n",
      "pclass          \n",
      "1       0.619195\n",
      "2       0.429603\n",
      "3       0.255289\n",
      "\n",
      "              age\n",
      "pclass           \n",
      "1       39.159918\n",
      "2       29.506705\n",
      "3       24.816367\n"
     ]
    }
   ],
   "source": [
    "import numpy as np\n",
    "import pandas as pd\n",
    "\n",
    "# index specifies which column to subset data based on \n",
    "# values specifies which column to subset based on the index\n",
    "# The aggfunc specifies what to do with the subsets\n",
    "# In this case, we split survived into 3 vectors, one for each passenger class, and take the mean of each\n",
    "\n",
    "\n",
    "passenger_survival = titanic_survival.pivot_table(index=\"pclass\", values=\"survived\", aggfunc=np.mean)\n",
    "print(passenger_survival)\n",
    "print()\n",
    "passenger_age = titanic_survival.pivot_table(index=\"pclass\", values=\"age\", aggfunc=np.mean)\n",
    "print(passenger_age)"
   ]
  },
  {
   "cell_type": "code",
   "execution_count": 12,
   "metadata": {},
   "outputs": [
    {
     "data": {
      "text/html": [
       "<div>\n",
       "<style scoped>\n",
       "    .dataframe tbody tr th:only-of-type {\n",
       "        vertical-align: middle;\n",
       "    }\n",
       "\n",
       "    .dataframe tbody tr th {\n",
       "        vertical-align: top;\n",
       "    }\n",
       "\n",
       "    .dataframe thead th {\n",
       "        text-align: right;\n",
       "    }\n",
       "</style>\n",
       "<table border=\"1\" class=\"dataframe\">\n",
       "  <thead>\n",
       "    <tr style=\"text-align: right;\">\n",
       "      <th></th>\n",
       "      <th>age</th>\n",
       "      <th>fare</th>\n",
       "      <th>survived</th>\n",
       "    </tr>\n",
       "    <tr>\n",
       "      <th>pclass</th>\n",
       "      <th></th>\n",
       "      <th></th>\n",
       "      <th></th>\n",
       "    </tr>\n",
       "  </thead>\n",
       "  <tbody>\n",
       "    <tr>\n",
       "      <th>1</th>\n",
       "      <td>39.159918</td>\n",
       "      <td>87.508992</td>\n",
       "      <td>0.619195</td>\n",
       "    </tr>\n",
       "    <tr>\n",
       "      <th>2</th>\n",
       "      <td>29.506705</td>\n",
       "      <td>21.179196</td>\n",
       "      <td>0.429603</td>\n",
       "    </tr>\n",
       "    <tr>\n",
       "      <th>3</th>\n",
       "      <td>24.816367</td>\n",
       "      <td>13.302889</td>\n",
       "      <td>0.255289</td>\n",
       "    </tr>\n",
       "  </tbody>\n",
       "</table>\n",
       "</div>"
      ],
      "text/plain": [
       "              age       fare  survived\n",
       "pclass                                \n",
       "1       39.159918  87.508992  0.619195\n",
       "2       29.506705  21.179196  0.429603\n",
       "3       24.816367  13.302889  0.255289"
      ]
     },
     "execution_count": 12,
     "metadata": {},
     "output_type": "execute_result"
    }
   ],
   "source": [
    "# You also can group by multiple values\n",
    "titanic_survival.pivot_table(index=\"pclass\", values=[\"fare\",\"age\",\"survived\"])"
   ]
  },
  {
   "cell_type": "markdown",
   "metadata": {},
   "source": [
    "We can use the DataFrame.pivot_table() method to perform even more advanced tasks. If we pass a list of column names to the values parameter instead of a single value, we can perform calculations on multiple columns at once.\n",
    "\n",
    "We can also specify a custom calculation to be made. For instance, if we pass np.sum to the aggfunc parameter it will total the values in each column.\n",
    "\n",
    "**Instruction**\n",
    "\n",
    "- Make a pivot table that calculates the total fares collected (\"fare\") and total number of survivors (\"survived\") for each embarkation port (\"embarked\").\n",
    "- Assign the result to port_stats.\n",
    "- Display port_stats using the print() function.\n"
   ]
  },
  {
   "cell_type": "code",
   "execution_count": 15,
   "metadata": {},
   "outputs": [
    {
     "name": "stdout",
     "output_type": "stream",
     "text": [
      "                fare  survived\n",
      "embarked                      \n",
      "C         16830.7922       150\n",
      "Q          1526.3085        44\n",
      "S         25033.3862       304\n"
     ]
    }
   ],
   "source": [
    "import pandas as pd\n",
    "import numpy as np\n",
    "port_stats = titanic_survival.pivot_table(index=\"embarked\", values=[\"fare\",\"survived\"], aggfunc=np.sum)\n",
    "print(port_stats)"
   ]
  },
  {
   "cell_type": "markdown",
   "metadata": {},
   "source": [
    "We learned how to remove the missing values in a vector of data, but how about in a matrix?\n",
    "\n",
    "We can use the DataFrame.dropna() method on pandas DataFrames to do this. The method will drop any rows that contain missing values.\n",
    "\n",
    "The dropna() method takes an axis parameter, which indicates whether you would like to drop rows or columns. Specifying axis=0 or axis='index' will drop any rows that have null values, while specifying axis=1 or axis='columns' will drop any columns that have null values. We will use 0 and 1 since they're more commonly used, but you can use either.\n",
    "\n",
    "The code below will drop all rows in titanic_survival that have null values."
   ]
  },
  {
   "cell_type": "code",
   "execution_count": 17,
   "metadata": {},
   "outputs": [],
   "source": [
    "drop_na_rows = titanic_survival.dropna(axis=0)"
   ]
  },
  {
   "cell_type": "markdown",
   "metadata": {},
   "source": [
    "There is also a parameter that allows you to specify a list of columns or rows to look at when using dropna(). You will need to use this in the next exercise - take a look at the [documentation](http://pandas.pydata.org/pandas-docs/stable/generated/pandas.DataFrame.dropna.html) to work out the name of this parameter and how it works."
   ]
  },
  {
   "cell_type": "code",
   "execution_count": 19,
   "metadata": {
    "collapsed": true
   },
   "outputs": [
    {
     "name": "stdout",
     "output_type": "stream",
     "text": [
      "Help on function dropna in module pandas.core.frame:\n",
      "\n",
      "dropna(self, axis=0, how='any', thresh=None, subset=None, inplace=False)\n",
      "    Return object with labels on given axis omitted where alternately any\n",
      "    or all of the data are missing\n",
      "    \n",
      "    Parameters\n",
      "    ----------\n",
      "    axis : {0 or 'index', 1 or 'columns'}, or tuple/list thereof\n",
      "        Pass tuple or list to drop on multiple axes\n",
      "    how : {'any', 'all'}\n",
      "        * any : if any NA values are present, drop that label\n",
      "        * all : if all values are NA, drop that label\n",
      "    thresh : int, default None\n",
      "        int value : require that many non-NA values\n",
      "    subset : array-like\n",
      "        Labels along other axis to consider, e.g. if you are dropping rows\n",
      "        these would be a list of columns to include\n",
      "    inplace : boolean, default False\n",
      "        If True, do operation inplace and return None.\n",
      "    \n",
      "    Returns\n",
      "    -------\n",
      "    dropped : DataFrame\n",
      "    \n",
      "    Examples\n",
      "    --------\n",
      "    >>> df = pd.DataFrame([[np.nan, 2, np.nan, 0], [3, 4, np.nan, 1],\n",
      "    ...                    [np.nan, np.nan, np.nan, 5]],\n",
      "    ...                   columns=list('ABCD'))\n",
      "    >>> df\n",
      "         A    B   C  D\n",
      "    0  NaN  2.0 NaN  0\n",
      "    1  3.0  4.0 NaN  1\n",
      "    2  NaN  NaN NaN  5\n",
      "    \n",
      "    Drop the columns where all elements are nan:\n",
      "    \n",
      "    >>> df.dropna(axis=1, how='all')\n",
      "         A    B  D\n",
      "    0  NaN  2.0  0\n",
      "    1  3.0  4.0  1\n",
      "    2  NaN  NaN  5\n",
      "    \n",
      "    Drop the columns where any of the elements is nan\n",
      "    \n",
      "    >>> df.dropna(axis=1, how='any')\n",
      "       D\n",
      "    0  0\n",
      "    1  1\n",
      "    2  5\n",
      "    \n",
      "    Drop the rows where all of the elements are nan\n",
      "    (there is no row to drop, so df stays the same):\n",
      "    \n",
      "    >>> df.dropna(axis=0, how='all')\n",
      "         A    B   C  D\n",
      "    0  NaN  2.0 NaN  0\n",
      "    1  3.0  4.0 NaN  1\n",
      "    2  NaN  NaN NaN  5\n",
      "    \n",
      "    Keep only the rows with at least 2 non-na values:\n",
      "    \n",
      "    >>> df.dropna(thresh=2)\n",
      "         A    B   C  D\n",
      "    0  NaN  2.0 NaN  0\n",
      "    1  3.0  4.0 NaN  1\n",
      "\n"
     ]
    }
   ],
   "source": [
    "help(pd.DataFrame.dropna)"
   ]
  },
  {
   "cell_type": "markdown",
   "metadata": {},
   "source": [
    "** Instructions**\n",
    "\n",
    "- Drop all columns in titanic_survival that have missing values and assign the result to drop_na_columns.\n",
    "- Drop all rows in titanic_survival where the columns \"age\" or \"sex\" have missing values and assign the result to new_titanic_survival.\n",
    "\n"
   ]
  },
  {
   "cell_type": "code",
   "execution_count": 21,
   "metadata": {},
   "outputs": [
    {
     "data": {
      "text/html": [
       "<div>\n",
       "<style scoped>\n",
       "    .dataframe tbody tr th:only-of-type {\n",
       "        vertical-align: middle;\n",
       "    }\n",
       "\n",
       "    .dataframe tbody tr th {\n",
       "        vertical-align: top;\n",
       "    }\n",
       "\n",
       "    .dataframe thead th {\n",
       "        text-align: right;\n",
       "    }\n",
       "</style>\n",
       "<table border=\"1\" class=\"dataframe\">\n",
       "  <thead>\n",
       "    <tr style=\"text-align: right;\">\n",
       "      <th></th>\n",
       "      <th>pclass</th>\n",
       "      <th>survived</th>\n",
       "      <th>name</th>\n",
       "      <th>sex</th>\n",
       "      <th>age</th>\n",
       "      <th>sibsp</th>\n",
       "      <th>parch</th>\n",
       "      <th>ticket</th>\n",
       "      <th>fare</th>\n",
       "      <th>cabin</th>\n",
       "      <th>embarked</th>\n",
       "      <th>boat</th>\n",
       "      <th>body</th>\n",
       "      <th>home.dest</th>\n",
       "    </tr>\n",
       "  </thead>\n",
       "  <tbody>\n",
       "    <tr>\n",
       "      <th>0</th>\n",
       "      <td>3</td>\n",
       "      <td>0</td>\n",
       "      <td>Abbing, Mr. Anthony</td>\n",
       "      <td>male</td>\n",
       "      <td>42.0</td>\n",
       "      <td>0</td>\n",
       "      <td>0</td>\n",
       "      <td>C.A. 5547</td>\n",
       "      <td>7.55</td>\n",
       "      <td>NaN</td>\n",
       "      <td>S</td>\n",
       "      <td>NaN</td>\n",
       "      <td>NaN</td>\n",
       "      <td>NaN</td>\n",
       "    </tr>\n",
       "    <tr>\n",
       "      <th>1</th>\n",
       "      <td>3</td>\n",
       "      <td>0</td>\n",
       "      <td>Abbott, Master. Eugene Joseph</td>\n",
       "      <td>male</td>\n",
       "      <td>13.0</td>\n",
       "      <td>0</td>\n",
       "      <td>2</td>\n",
       "      <td>C.A. 2673</td>\n",
       "      <td>20.25</td>\n",
       "      <td>NaN</td>\n",
       "      <td>S</td>\n",
       "      <td>NaN</td>\n",
       "      <td>NaN</td>\n",
       "      <td>East Providence, RI</td>\n",
       "    </tr>\n",
       "    <tr>\n",
       "      <th>2</th>\n",
       "      <td>3</td>\n",
       "      <td>0</td>\n",
       "      <td>Abbott, Mr. Rossmore Edward</td>\n",
       "      <td>male</td>\n",
       "      <td>16.0</td>\n",
       "      <td>1</td>\n",
       "      <td>1</td>\n",
       "      <td>C.A. 2673</td>\n",
       "      <td>20.25</td>\n",
       "      <td>NaN</td>\n",
       "      <td>S</td>\n",
       "      <td>NaN</td>\n",
       "      <td>190.0</td>\n",
       "      <td>East Providence, RI</td>\n",
       "    </tr>\n",
       "  </tbody>\n",
       "</table>\n",
       "</div>"
      ],
      "text/plain": [
       "   pclass  survived                           name   sex   age  sibsp  parch  \\\n",
       "0       3         0            Abbing, Mr. Anthony  male  42.0      0      0   \n",
       "1       3         0  Abbott, Master. Eugene Joseph  male  13.0      0      2   \n",
       "2       3         0    Abbott, Mr. Rossmore Edward  male  16.0      1      1   \n",
       "\n",
       "      ticket   fare cabin embarked boat   body            home.dest  \n",
       "0  C.A. 5547   7.55   NaN        S  NaN    NaN                  NaN  \n",
       "1  C.A. 2673  20.25   NaN        S  NaN    NaN  East Providence, RI  \n",
       "2  C.A. 2673  20.25   NaN        S  NaN  190.0  East Providence, RI  "
      ]
     },
     "execution_count": 21,
     "metadata": {},
     "output_type": "execute_result"
    }
   ],
   "source": [
    "# Drop the column where any elements contains nan\n",
    "drop_na_columns = titanic_survival.dropna(axis=1, how=\"any\")\n",
    "new_titanic_survival = titanic_survival.dropna(subset=[\"age\",\"sex\"])\n",
    "new_titanic_survival.head(3)"
   ]
  },
  {
   "cell_type": "code",
   "execution_count": 44,
   "metadata": {},
   "outputs": [],
   "source": [
    "# Sorted the new_titanic_survival by \"age\" column with highest to lowest\n",
    "new_titanic_survival = new_titanic_survival.sort_values(by=[\"age\", \"name\"], ascending=False)\n",
    "#new_titanic_survival.sort_values(\"age\", ascending=False, inplace=True)\n"
   ]
  },
  {
   "cell_type": "markdown",
   "metadata": {},
   "source": [
    "## Row indices"
   ]
  },
  {
   "cell_type": "markdown",
   "metadata": {},
   "source": [
    "**Instruction**\n",
    "- Assign the first ten rows from new_titanic_survival to first_ten_rows.\n",
    "- Assign the fifth row from new_titanic_survival to row_position_fifth.\n",
    "- Assign the row with index label 25 from new_titanic_survivalto row_index_25\n",
    "\n",
    "**Hint**\n",
    "- Remember to use .loc when addressing by label, and .iloc when indexing by position"
   ]
  },
  {
   "cell_type": "code",
   "execution_count": 45,
   "metadata": {},
   "outputs": [
    {
     "data": {
      "text/html": [
       "<div>\n",
       "<style scoped>\n",
       "    .dataframe tbody tr th:only-of-type {\n",
       "        vertical-align: middle;\n",
       "    }\n",
       "\n",
       "    .dataframe tbody tr th {\n",
       "        vertical-align: top;\n",
       "    }\n",
       "\n",
       "    .dataframe thead th {\n",
       "        text-align: right;\n",
       "    }\n",
       "</style>\n",
       "<table border=\"1\" class=\"dataframe\">\n",
       "  <thead>\n",
       "    <tr style=\"text-align: right;\">\n",
       "      <th></th>\n",
       "      <th>pclass</th>\n",
       "      <th>survived</th>\n",
       "      <th>name</th>\n",
       "      <th>sex</th>\n",
       "      <th>age</th>\n",
       "      <th>sibsp</th>\n",
       "      <th>parch</th>\n",
       "      <th>ticket</th>\n",
       "      <th>fare</th>\n",
       "      <th>cabin</th>\n",
       "      <th>embarked</th>\n",
       "      <th>boat</th>\n",
       "      <th>body</th>\n",
       "      <th>home.dest</th>\n",
       "    </tr>\n",
       "  </thead>\n",
       "  <tbody>\n",
       "    <tr>\n",
       "      <th>93</th>\n",
       "      <td>1</td>\n",
       "      <td>1</td>\n",
       "      <td>Barkworth, Mr. Algernon Henry Wilson</td>\n",
       "      <td>male</td>\n",
       "      <td>80.0</td>\n",
       "      <td>0</td>\n",
       "      <td>0</td>\n",
       "      <td>27042</td>\n",
       "      <td>30.0000</td>\n",
       "      <td>A23</td>\n",
       "      <td>S</td>\n",
       "      <td>B</td>\n",
       "      <td>NaN</td>\n",
       "      <td>Hessle, Yorks</td>\n",
       "    </tr>\n",
       "    <tr>\n",
       "      <th>217</th>\n",
       "      <td>1</td>\n",
       "      <td>1</td>\n",
       "      <td>Cavendish, Mrs. Tyrell William (Julia Florence...</td>\n",
       "      <td>female</td>\n",
       "      <td>76.0</td>\n",
       "      <td>1</td>\n",
       "      <td>0</td>\n",
       "      <td>19877</td>\n",
       "      <td>78.8500</td>\n",
       "      <td>C46</td>\n",
       "      <td>S</td>\n",
       "      <td>6</td>\n",
       "      <td>NaN</td>\n",
       "      <td>Little Onn Hall, Staffs</td>\n",
       "    </tr>\n",
       "    <tr>\n",
       "      <th>1168</th>\n",
       "      <td>3</td>\n",
       "      <td>0</td>\n",
       "      <td>Svensson, Mr. Johan</td>\n",
       "      <td>male</td>\n",
       "      <td>74.0</td>\n",
       "      <td>0</td>\n",
       "      <td>0</td>\n",
       "      <td>347060</td>\n",
       "      <td>7.7750</td>\n",
       "      <td>NaN</td>\n",
       "      <td>S</td>\n",
       "      <td>NaN</td>\n",
       "      <td>NaN</td>\n",
       "      <td>NaN</td>\n",
       "    </tr>\n",
       "    <tr>\n",
       "      <th>457</th>\n",
       "      <td>1</td>\n",
       "      <td>0</td>\n",
       "      <td>Goldschmidt, Mr. George B</td>\n",
       "      <td>male</td>\n",
       "      <td>71.0</td>\n",
       "      <td>0</td>\n",
       "      <td>0</td>\n",
       "      <td>PC 17754</td>\n",
       "      <td>34.6542</td>\n",
       "      <td>A5</td>\n",
       "      <td>C</td>\n",
       "      <td>NaN</td>\n",
       "      <td>NaN</td>\n",
       "      <td>New York, NY</td>\n",
       "    </tr>\n",
       "    <tr>\n",
       "      <th>54</th>\n",
       "      <td>1</td>\n",
       "      <td>0</td>\n",
       "      <td>Artagaveytia, Mr. Ramon</td>\n",
       "      <td>male</td>\n",
       "      <td>71.0</td>\n",
       "      <td>0</td>\n",
       "      <td>0</td>\n",
       "      <td>PC 17609</td>\n",
       "      <td>49.5042</td>\n",
       "      <td>NaN</td>\n",
       "      <td>C</td>\n",
       "      <td>NaN</td>\n",
       "      <td>22.0</td>\n",
       "      <td>Montevideo, Uruguay</td>\n",
       "    </tr>\n",
       "    <tr>\n",
       "      <th>263</th>\n",
       "      <td>3</td>\n",
       "      <td>0</td>\n",
       "      <td>Connors, Mr. Patrick</td>\n",
       "      <td>male</td>\n",
       "      <td>70.5</td>\n",
       "      <td>0</td>\n",
       "      <td>0</td>\n",
       "      <td>370369</td>\n",
       "      <td>7.7500</td>\n",
       "      <td>NaN</td>\n",
       "      <td>Q</td>\n",
       "      <td>NaN</td>\n",
       "      <td>171.0</td>\n",
       "      <td>NaN</td>\n",
       "    </tr>\n",
       "    <tr>\n",
       "      <th>814</th>\n",
       "      <td>2</td>\n",
       "      <td>0</td>\n",
       "      <td>Mitchell, Mr. Henry Michael</td>\n",
       "      <td>male</td>\n",
       "      <td>70.0</td>\n",
       "      <td>0</td>\n",
       "      <td>0</td>\n",
       "      <td>C.A. 24580</td>\n",
       "      <td>10.5000</td>\n",
       "      <td>NaN</td>\n",
       "      <td>S</td>\n",
       "      <td>NaN</td>\n",
       "      <td>NaN</td>\n",
       "      <td>Guernsey / Montclair, NJ and/or Toledo, Ohio</td>\n",
       "    </tr>\n",
       "    <tr>\n",
       "      <th>282</th>\n",
       "      <td>1</td>\n",
       "      <td>0</td>\n",
       "      <td>Crosby, Capt. Edward Gifford</td>\n",
       "      <td>male</td>\n",
       "      <td>70.0</td>\n",
       "      <td>1</td>\n",
       "      <td>1</td>\n",
       "      <td>WE/P 5735</td>\n",
       "      <td>71.0000</td>\n",
       "      <td>B22</td>\n",
       "      <td>S</td>\n",
       "      <td>NaN</td>\n",
       "      <td>269.0</td>\n",
       "      <td>Milwaukee, WI</td>\n",
       "    </tr>\n",
       "    <tr>\n",
       "      <th>1159</th>\n",
       "      <td>1</td>\n",
       "      <td>0</td>\n",
       "      <td>Straus, Mr. Isidor</td>\n",
       "      <td>male</td>\n",
       "      <td>67.0</td>\n",
       "      <td>1</td>\n",
       "      <td>0</td>\n",
       "      <td>PC 17483</td>\n",
       "      <td>221.7792</td>\n",
       "      <td>C55 C57</td>\n",
       "      <td>S</td>\n",
       "      <td>NaN</td>\n",
       "      <td>96.0</td>\n",
       "      <td>New York, NY</td>\n",
       "    </tr>\n",
       "    <tr>\n",
       "      <th>1264</th>\n",
       "      <td>2</td>\n",
       "      <td>0</td>\n",
       "      <td>Wheadon, Mr. Edward H</td>\n",
       "      <td>male</td>\n",
       "      <td>66.0</td>\n",
       "      <td>0</td>\n",
       "      <td>0</td>\n",
       "      <td>C.A. 24579</td>\n",
       "      <td>10.5000</td>\n",
       "      <td>NaN</td>\n",
       "      <td>S</td>\n",
       "      <td>NaN</td>\n",
       "      <td>NaN</td>\n",
       "      <td>Guernsey, England / Edgewood, RI</td>\n",
       "    </tr>\n",
       "  </tbody>\n",
       "</table>\n",
       "</div>"
      ],
      "text/plain": [
       "      pclass  survived                                               name  \\\n",
       "93         1         1               Barkworth, Mr. Algernon Henry Wilson   \n",
       "217        1         1  Cavendish, Mrs. Tyrell William (Julia Florence...   \n",
       "1168       3         0                                Svensson, Mr. Johan   \n",
       "457        1         0                          Goldschmidt, Mr. George B   \n",
       "54         1         0                            Artagaveytia, Mr. Ramon   \n",
       "263        3         0                               Connors, Mr. Patrick   \n",
       "814        2         0                        Mitchell, Mr. Henry Michael   \n",
       "282        1         0                       Crosby, Capt. Edward Gifford   \n",
       "1159       1         0                                 Straus, Mr. Isidor   \n",
       "1264       2         0                              Wheadon, Mr. Edward H   \n",
       "\n",
       "         sex   age  sibsp  parch      ticket      fare    cabin embarked boat  \\\n",
       "93      male  80.0      0      0       27042   30.0000      A23        S    B   \n",
       "217   female  76.0      1      0       19877   78.8500      C46        S    6   \n",
       "1168    male  74.0      0      0      347060    7.7750      NaN        S  NaN   \n",
       "457     male  71.0      0      0    PC 17754   34.6542       A5        C  NaN   \n",
       "54      male  71.0      0      0    PC 17609   49.5042      NaN        C  NaN   \n",
       "263     male  70.5      0      0      370369    7.7500      NaN        Q  NaN   \n",
       "814     male  70.0      0      0  C.A. 24580   10.5000      NaN        S  NaN   \n",
       "282     male  70.0      1      1   WE/P 5735   71.0000      B22        S  NaN   \n",
       "1159    male  67.0      1      0    PC 17483  221.7792  C55 C57        S  NaN   \n",
       "1264    male  66.0      0      0  C.A. 24579   10.5000      NaN        S  NaN   \n",
       "\n",
       "       body                                     home.dest  \n",
       "93      NaN                                 Hessle, Yorks  \n",
       "217     NaN                       Little Onn Hall, Staffs  \n",
       "1168    NaN                                           NaN  \n",
       "457     NaN                                  New York, NY  \n",
       "54     22.0                           Montevideo, Uruguay  \n",
       "263   171.0                                           NaN  \n",
       "814     NaN  Guernsey / Montclair, NJ and/or Toledo, Ohio  \n",
       "282   269.0                                 Milwaukee, WI  \n",
       "1159   96.0                                  New York, NY  \n",
       "1264    NaN              Guernsey, England / Edgewood, RI  "
      ]
     },
     "execution_count": 45,
     "metadata": {},
     "output_type": "execute_result"
    }
   ],
   "source": [
    "first_ten_rows = new_titanic_survival.iloc[0:10]\n",
    "first_ten_rows"
   ]
  },
  {
   "cell_type": "code",
   "execution_count": 46,
   "metadata": {},
   "outputs": [
    {
     "data": {
      "text/plain": [
       "pclass                             1\n",
       "survived                           0\n",
       "name         Artagaveytia, Mr. Ramon\n",
       "sex                             male\n",
       "age                               71\n",
       "sibsp                              0\n",
       "parch                              0\n",
       "ticket                      PC 17609\n",
       "fare                         49.5042\n",
       "cabin                            NaN\n",
       "embarked                           C\n",
       "boat                             NaN\n",
       "body                              22\n",
       "home.dest        Montevideo, Uruguay\n",
       "Name: 54, dtype: object"
      ]
     },
     "execution_count": 46,
     "metadata": {},
     "output_type": "execute_result"
    }
   ],
   "source": [
    "row_position_fifth = new_titanic_survival.iloc[4]\n",
    "row_position_fifth"
   ]
  },
  {
   "cell_type": "code",
   "execution_count": 48,
   "metadata": {},
   "outputs": [
    {
     "data": {
      "text/plain": [
       "pclass                                          1\n",
       "survived                                        0\n",
       "name         Allison, Mr. Hudson Joshua Creighton\n",
       "sex                                          male\n",
       "age                                            30\n",
       "sibsp                                           1\n",
       "parch                                           2\n",
       "ticket                                     113781\n",
       "fare                                       151.55\n",
       "cabin                                     C22 C26\n",
       "embarked                                        S\n",
       "boat                                          NaN\n",
       "body                                          135\n",
       "home.dest         Montreal, PQ / Chesterville, ON\n",
       "Name: 25, dtype: object"
      ]
     },
     "execution_count": 48,
     "metadata": {},
     "output_type": "execute_result"
    }
   ],
   "source": [
    "row_index_25 = new_titanic_survival.loc[25]\n",
    "row_index_25"
   ]
  },
  {
   "cell_type": "markdown",
   "metadata": {},
   "source": [
    "We can also index columns using both the loc[] and iloc[] methods. With .loc[], we specify the column label strings as we have in the earlier exercises in this missions. With iloc[], we simply use the integer number of the column, starting from the left-most column which is 0. Similar to indexing with NumPy arrays, you separate the row and columns with a comma, and can use a colon to specify a range or as a wildcard."
   ]
  },
  {
   "cell_type": "code",
   "execution_count": 49,
   "metadata": {},
   "outputs": [],
   "source": [
    "first_row_first_column = new_titanic_survival.iloc[0,0]\n",
    "all_rows_first_three_columns = new_titanic_survival.iloc[:,0:3]\n",
    "row_index_83_age = new_titanic_survival.loc[83,\"age\"]\n",
    "row_index_766_pclass = new_titanic_survival.loc[766,\"pclass\"]"
   ]
  },
  {
   "cell_type": "markdown",
   "metadata": {},
   "source": [
    "**Instruction**\n",
    "\n",
    "- Assign the value at row index label 1100, column index label \"age\" from new_titanic_survival to row_index_1100_age.\n",
    "- Assign the value at row index label 25, column index label \"survived\" from new_titanic_survival to row_index_25_survived.\n",
    "- Assign the first 5 rows and first three columns from new_titanic_survival to five_rows_three_cols.\n"
   ]
  },
  {
   "cell_type": "code",
   "execution_count": 61,
   "metadata": {},
   "outputs": [],
   "source": [
    "#row_index_1100_age = new_titanic_survival.loc[1100, \"age\"]\n",
    "row_index_25_survived = new_titanic_survival.loc[25, \"survived\"]\n",
    "five_row_three_cols = new_titanic_survival.iloc[0:2,0:2]"
   ]
  },
  {
   "cell_type": "markdown",
   "metadata": {},
   "source": [
    "## Reset index\n",
    "After we sorted new_titanic_survival by age, the row indexes were no longer sequential. Each row retained its original index from titanic_survival.\n",
    "\n",
    "Sometimes it's useful to reindex, starting from 0. We can use the DataFrame.reset_index() method to do this. By default, the method retains the old index by adding an extra column to the dataframe with the old index values.\n",
    "\n",
    "In this exercise, we don't want to retain the index. Check the documentation to see what parameter you need to add so that we don't retain the old index.\n",
    "\n",
    "**Instructions**\n",
    "\n",
    "- Reindex the new_titanic_survival dataframe so the row indexes start from 0, and the old index is dropped.\n",
    "- Assign the final result to titanic_reindexed.\n",
    "- Print the first 5 rows and the first 3 columns of titanic_reindexed.\n"
   ]
  },
  {
   "cell_type": "code",
   "execution_count": 59,
   "metadata": {},
   "outputs": [
    {
     "data": {
      "text/html": [
       "<div>\n",
       "<style scoped>\n",
       "    .dataframe tbody tr th:only-of-type {\n",
       "        vertical-align: middle;\n",
       "    }\n",
       "\n",
       "    .dataframe tbody tr th {\n",
       "        vertical-align: top;\n",
       "    }\n",
       "\n",
       "    .dataframe thead th {\n",
       "        text-align: right;\n",
       "    }\n",
       "</style>\n",
       "<table border=\"1\" class=\"dataframe\">\n",
       "  <thead>\n",
       "    <tr style=\"text-align: right;\">\n",
       "      <th></th>\n",
       "      <th>pclass</th>\n",
       "      <th>survived</th>\n",
       "      <th>name</th>\n",
       "    </tr>\n",
       "  </thead>\n",
       "  <tbody>\n",
       "    <tr>\n",
       "      <th>0</th>\n",
       "      <td>1</td>\n",
       "      <td>1</td>\n",
       "      <td>Barkworth, Mr. Algernon Henry Wilson</td>\n",
       "    </tr>\n",
       "    <tr>\n",
       "      <th>1</th>\n",
       "      <td>1</td>\n",
       "      <td>1</td>\n",
       "      <td>Cavendish, Mrs. Tyrell William (Julia Florence...</td>\n",
       "    </tr>\n",
       "    <tr>\n",
       "      <th>2</th>\n",
       "      <td>3</td>\n",
       "      <td>0</td>\n",
       "      <td>Svensson, Mr. Johan</td>\n",
       "    </tr>\n",
       "    <tr>\n",
       "      <th>3</th>\n",
       "      <td>1</td>\n",
       "      <td>0</td>\n",
       "      <td>Goldschmidt, Mr. George B</td>\n",
       "    </tr>\n",
       "    <tr>\n",
       "      <th>4</th>\n",
       "      <td>1</td>\n",
       "      <td>0</td>\n",
       "      <td>Artagaveytia, Mr. Ramon</td>\n",
       "    </tr>\n",
       "  </tbody>\n",
       "</table>\n",
       "</div>"
      ],
      "text/plain": [
       "   pclass  survived                                               name\n",
       "0       1         1               Barkworth, Mr. Algernon Henry Wilson\n",
       "1       1         1  Cavendish, Mrs. Tyrell William (Julia Florence...\n",
       "2       3         0                                Svensson, Mr. Johan\n",
       "3       1         0                          Goldschmidt, Mr. George B\n",
       "4       1         0                            Artagaveytia, Mr. Ramon"
      ]
     },
     "execution_count": 59,
     "metadata": {},
     "output_type": "execute_result"
    }
   ],
   "source": [
    "# Use drop parameter to avoid the old index being added as a column\n",
    "titanic_reindexed = new_titanic_survival.reset_index(drop=True)\n",
    "titanic_reindexed.iloc[0:5,0:3]"
   ]
  },
  {
   "cell_type": "markdown",
   "metadata": {},
   "source": [
    "## Apply()\n",
    "To perform a complex calculation across pandas objects, we'll need to learn about the DataFrame.apply() method. By default, DataFrame.apply() will iterate through each column in a DataFrame, and perform on each column. When we create our function, we give it one parameter, apply() method passes each column to the parameter as a pandas series.\n",
    "\n",
    "The result from the function will be combined with all of the other results, and placed into a new series. The function results will have the same position as the column or row we generated them from. Let's look at a simple example:\n"
   ]
  },
  {
   "cell_type": "code",
   "execution_count": 66,
   "metadata": {},
   "outputs": [
    {
     "data": {
      "text/plain": [
       "pclass                                                     1\n",
       "survived                                                   1\n",
       "name         Baxter, Mrs. James (Helene DeLaudeniere Chaput)\n",
       "sex                                                   female\n",
       "age                                                       50\n",
       "sibsp                                                      0\n",
       "parch                                                      1\n",
       "ticket                                              PC 17558\n",
       "fare                                                 247.521\n",
       "cabin                                                B58 B60\n",
       "embarked                                                   C\n",
       "boat                                                       6\n",
       "body                                                     NaN\n",
       "home.dest                                       Montreal, PQ\n",
       "dtype: object"
      ]
     },
     "execution_count": 66,
     "metadata": {},
     "output_type": "execute_result"
    }
   ],
   "source": [
    "# Return hundredth item from a series\n",
    "def hundredth_row(column):\n",
    "    return column.iloc[99]\n",
    "\n",
    "# Return the hundredth item from each row\n",
    "hundredth_row_var = titanic_survival.apply(hundredth_row)\n",
    "hundredth_row_var"
   ]
  },
  {
   "cell_type": "markdown",
   "metadata": {},
   "source": [
    "**Instructions**\n",
    "- Write a function that counts the number of null elements in a Series.\n",
    "- Use the DataFrame.apply() method along with your function to run across all the columns in titanic_survival.\n",
    "- Assign the result to column_null_count.\n"
   ]
  },
  {
   "cell_type": "code",
   "execution_count": 70,
   "metadata": {},
   "outputs": [
    {
     "data": {
      "text/plain": [
       "pclass          0\n",
       "survived        0\n",
       "name            0\n",
       "sex             0\n",
       "age           263\n",
       "sibsp           0\n",
       "parch           0\n",
       "ticket          0\n",
       "fare            1\n",
       "cabin        1014\n",
       "embarked        2\n",
       "boat          823\n",
       "body         1188\n",
       "home.dest     563\n",
       "dtype: int64"
      ]
     },
     "execution_count": 70,
     "metadata": {},
     "output_type": "execute_result"
    }
   ],
   "source": [
    "# Return the null count of a column \n",
    "def null_count(column):\n",
    "    return len(column[pd.isnull(column)]) # or len(column[pd.isnull(column) == True])\n",
    "# Same as above\n",
    "#def null_count_x(column):\n",
    "#    column_is_null = pd.isnull(column)\n",
    "#    return len(column[column_is_null])\n",
    "column_null_count = titanic_survival.apply(null_count)\n",
    "column_null_count"
   ]
  },
  {
   "cell_type": "markdown",
   "metadata": {},
   "source": [
    "## Applying a function to a Row\n",
    "By passing in the axis=1 argument, we can use the DataFrame.apply() method to iterate over rows instead of columns."
   ]
  },
  {
   "cell_type": "code",
   "execution_count": 72,
   "metadata": {},
   "outputs": [],
   "source": [
    "def is_minor(row):\n",
    "    return row[\"age\"] < 18\n",
    "\n",
    "minors = titanic_survival.apply(is_minor, axis=1)"
   ]
  },
  {
   "cell_type": "markdown",
   "metadata": {},
   "source": [
    "We can use this to calculate some summary information about the ages of the passengers on the Titanic. You will need to use an if/elif/else statement in your function. The elif statement just means else if. Below is an example of how these statements work."
   ]
  },
  {
   "cell_type": "code",
   "execution_count": 76,
   "metadata": {},
   "outputs": [],
   "source": [
    "def which_class(row):\n",
    "    pclass = row['pclass']\n",
    "    if pd.isnull(pclass):\n",
    "        return \"Unknown\"\n",
    "    elif pclass == 1:\n",
    "        return \"First Class\"\n",
    "    elif pclass == 2:\n",
    "        return \"Second Class\"\n",
    "    else:\n",
    "        return \"Third Class\"\n",
    "\n",
    "classes = titanic_survival.apply(which_class, axis=1)"
   ]
  },
  {
   "cell_type": "markdown",
   "metadata": {},
   "source": [
    "When the function is called, each test runs until one of the if, elif or else statements is met."
   ]
  },
  {
   "cell_type": "markdown",
   "metadata": {},
   "source": [
    "**Instructions**\n",
    "\n",
    "- Create a function that returns the string \"minor\" if someone is under 18, \"adult\" if they are equal to or over 18, and \"unknown\" if their age is null.\n",
    "- Then, use the function along with .apply() to find the correct label for everyone in the titanic_survival dataframe.\n",
    "- Assign the result to age_labels.\n",
    "- You can use pd.isnull to check if a value is null or not.\n"
   ]
  },
  {
   "cell_type": "code",
   "execution_count": 81,
   "metadata": {},
   "outputs": [],
   "source": [
    "def age_label(row):\n",
    "    age = row[\"age\"]\n",
    "    if pd.isnull(age):\n",
    "        return \"unknown\"\n",
    "    elif age < 18:\n",
    "        return \"minor\"\n",
    "    else:\n",
    "        return \"adult\"\n",
    "\n",
    "age_labels = titanic_survival.apply(age_label, axis=1)"
   ]
  },
  {
   "cell_type": "code",
   "execution_count": 82,
   "metadata": {},
   "outputs": [],
   "source": [
    "# Add \"age_labels\" to titanic_survival\n",
    "titanic_survival[\"age_labels\"] = age_labels"
   ]
  },
  {
   "cell_type": "markdown",
   "metadata": {},
   "source": [
    "**Instruction** \n",
    "- Create a pivot table that calculates the mean survival chance(\"survived\") for each age group (\"age_labels\") of the dataframe titanic_survival.\n",
    "- Assign the resulting Series object to age_group_survival."
   ]
  },
  {
   "cell_type": "code",
   "execution_count": 83,
   "metadata": {},
   "outputs": [
    {
     "name": "stdout",
     "output_type": "stream",
     "text": [
      "            survived\n",
      "age_labels          \n",
      "adult       0.387892\n",
      "minor       0.525974\n",
      "unknown     0.277567\n"
     ]
    }
   ],
   "source": [
    "age_group_survival = titanic_survival.pivot_table(index=\"age_labels\", values=\"survived\")\n",
    "print(age_group_survival)"
   ]
  }
 ],
 "metadata": {
  "kernelspec": {
   "display_name": "Python 3",
   "language": "python",
   "name": "python3"
  },
  "language_info": {
   "codemirror_mode": {
    "name": "ipython",
    "version": 3
   },
   "file_extension": ".py",
   "mimetype": "text/x-python",
   "name": "python",
   "nbconvert_exporter": "python",
   "pygments_lexer": "ipython3",
   "version": "3.6.4"
  }
 },
 "nbformat": 4,
 "nbformat_minor": 2
}
