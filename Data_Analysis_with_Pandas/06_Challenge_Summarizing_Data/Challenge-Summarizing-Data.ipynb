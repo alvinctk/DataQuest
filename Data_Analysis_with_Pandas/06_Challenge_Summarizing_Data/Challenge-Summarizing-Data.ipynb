{
 "cells": [
  {
   "cell_type": "markdown",
   "metadata": {},
   "source": [
    "## How Challenges Work"
   ]
  },
  {
   "cell_type": "markdown",
   "metadata": {},
   "source": [
    "The American Community Survey is a U.S. Census Bureau survey that collects data on everything from housing affordability to industry employment rates. For this challenge, you'll be using the data that the team at FiveThirtyEight derived from the 2010-2012 American Community Surveys. [FiveThirtyEight](http://fivethirtyeight.com/) cleaned the data set and made it available in a [Github repository](https://github.com/fivethirtyeight/data/tree/master/college-majors).<br>\n",
    "\n",
    "Here's a quick overview of the files we'll be working with:\n",
    "\n",
    "- all-ages.csv - Employment data by major for all ages\n",
    "- recent-grads.csv - Employment data by major for recent college graduates only"
   ]
  },
  {
   "cell_type": "markdown",
   "metadata": {},
   "source": [
    "Here are descriptions for a few of the columns (out of 21 total columns):\n",
    "- Rank - The major's numerical rank, by post-graduation median earnings\n",
    "- Major_code - The major's numerical code\n",
    "- Major - The major's description\n",
    "- Major_category - The major's category\n",
    "- Total - The total number of people who studied the major\n",
    "- Sample_size - Sample size (unweighted) of full-time, year-round students\n",
    "- Men - The number of men who studied the major\n",
    "- Women - The number of women who studied the major\n",
    "- ShareWomen - The share of women (from 0 to 1) who studied the major\n",
    "- Employed - The number of people who studied the major and obtained a job after graduating\n",
    "- Low_wage_jobs - Number in low-wage service jobs\n",
    "\n",
    "\n"
   ]
  },
  {
   "cell_type": "markdown",
   "metadata": {},
   "source": [
    "Here are the first few rows and columns in recent-grads.csv. The data set all-ages.csv has the same structure, but with different values for some of the column."
   ]
  },
  {
   "cell_type": "markdown",
   "metadata": {},
   "source": [
    "By completing this challenge, you'll test your comfort level with using pandas to manipulate DataFrames and calculate summary statistics. First, we'll need to read the data set into pandas."
   ]
  },
  {
   "cell_type": "markdown",
   "metadata": {},
   "source": [
    "**Instruction**\n",
    "\n",
    "- Read all-ages.csv into a DataFrame object, and assign it to all_ages.\n",
    "- Read recent-grads.csv into a DataFrame object, and assign it to recent_grads.\n",
    "- Display the first row of all_ages and recent_grads.\n"
   ]
  },
  {
   "cell_type": "code",
   "execution_count": 9,
   "metadata": {},
   "outputs": [],
   "source": [
    "import pandas as pd\n",
    "import numpy as np\n",
    "\n",
    "all_ages = pd.read_csv(\"all-ages.csv\", error_bad_lines=False)\n",
    "recent_grads = pd.read_csv(\"recent-grads.csv\", error_bad_lines=False)"
   ]
  },
  {
   "cell_type": "code",
   "execution_count": 14,
   "metadata": {},
   "outputs": [
    {
     "data": {
      "text/html": [
       "<div>\n",
       "<style scoped>\n",
       "    .dataframe tbody tr th:only-of-type {\n",
       "        vertical-align: middle;\n",
       "    }\n",
       "\n",
       "    .dataframe tbody tr th {\n",
       "        vertical-align: top;\n",
       "    }\n",
       "\n",
       "    .dataframe thead th {\n",
       "        text-align: right;\n",
       "    }\n",
       "</style>\n",
       "<table border=\"1\" class=\"dataframe\">\n",
       "  <thead>\n",
       "    <tr style=\"text-align: right;\">\n",
       "      <th></th>\n",
       "      <th>Major_code</th>\n",
       "      <th>Major</th>\n",
       "      <th>Major_category</th>\n",
       "      <th>Total</th>\n",
       "      <th>Employed</th>\n",
       "      <th>Employed_full_time_year_round</th>\n",
       "      <th>Unemployed</th>\n",
       "      <th>Unemployment_rate</th>\n",
       "      <th>Median</th>\n",
       "      <th>P25th</th>\n",
       "      <th>P75th</th>\n",
       "    </tr>\n",
       "  </thead>\n",
       "  <tbody>\n",
       "    <tr>\n",
       "      <th>0</th>\n",
       "      <td>1100</td>\n",
       "      <td>GENERAL AGRICULTURE</td>\n",
       "      <td>Agriculture &amp; Natural Resources</td>\n",
       "      <td>128148</td>\n",
       "      <td>90245</td>\n",
       "      <td>74078</td>\n",
       "      <td>2423</td>\n",
       "      <td>0.026147</td>\n",
       "      <td>50000</td>\n",
       "      <td>34000</td>\n",
       "      <td>80000.0</td>\n",
       "    </tr>\n",
       "  </tbody>\n",
       "</table>\n",
       "</div>"
      ],
      "text/plain": [
       "   Major_code                Major                   Major_category   Total  \\\n",
       "0        1100  GENERAL AGRICULTURE  Agriculture & Natural Resources  128148   \n",
       "\n",
       "   Employed  Employed_full_time_year_round  Unemployed  Unemployment_rate  \\\n",
       "0     90245                          74078        2423           0.026147   \n",
       "\n",
       "   Median  P25th    P75th  \n",
       "0   50000  34000  80000.0  "
      ]
     },
     "execution_count": 14,
     "metadata": {},
     "output_type": "execute_result"
    }
   ],
   "source": [
    "all_ages.head(1)"
   ]
  },
  {
   "cell_type": "code",
   "execution_count": 15,
   "metadata": {},
   "outputs": [
    {
     "data": {
      "text/html": [
       "<div>\n",
       "<style scoped>\n",
       "    .dataframe tbody tr th:only-of-type {\n",
       "        vertical-align: middle;\n",
       "    }\n",
       "\n",
       "    .dataframe tbody tr th {\n",
       "        vertical-align: top;\n",
       "    }\n",
       "\n",
       "    .dataframe thead th {\n",
       "        text-align: right;\n",
       "    }\n",
       "</style>\n",
       "<table border=\"1\" class=\"dataframe\">\n",
       "  <thead>\n",
       "    <tr style=\"text-align: right;\">\n",
       "      <th></th>\n",
       "      <th>Rank</th>\n",
       "      <th>Major_code</th>\n",
       "      <th>Major</th>\n",
       "      <th>Major_category</th>\n",
       "      <th>Total</th>\n",
       "      <th>Sample_size</th>\n",
       "      <th>Men</th>\n",
       "      <th>Women</th>\n",
       "      <th>ShareWomen</th>\n",
       "      <th>Employed</th>\n",
       "      <th>...</th>\n",
       "      <th>Part_time</th>\n",
       "      <th>Full_time_year_round</th>\n",
       "      <th>Unemployed</th>\n",
       "      <th>Unemployment_rate</th>\n",
       "      <th>Median</th>\n",
       "      <th>P25th</th>\n",
       "      <th>P75th</th>\n",
       "      <th>College_jobs</th>\n",
       "      <th>Non_college_jobs</th>\n",
       "      <th>Low_wage_jobs</th>\n",
       "    </tr>\n",
       "  </thead>\n",
       "  <tbody>\n",
       "    <tr>\n",
       "      <th>0</th>\n",
       "      <td>1</td>\n",
       "      <td>2419</td>\n",
       "      <td>PETROLEUM ENGINEERING</td>\n",
       "      <td>Engineering</td>\n",
       "      <td>2339</td>\n",
       "      <td>36</td>\n",
       "      <td>2057</td>\n",
       "      <td>282</td>\n",
       "      <td>0.120564</td>\n",
       "      <td>1976</td>\n",
       "      <td>...</td>\n",
       "      <td>270</td>\n",
       "      <td>1207</td>\n",
       "      <td>37</td>\n",
       "      <td>0.018381</td>\n",
       "      <td>110000</td>\n",
       "      <td>95000</td>\n",
       "      <td>125000</td>\n",
       "      <td>1534</td>\n",
       "      <td>364</td>\n",
       "      <td>193</td>\n",
       "    </tr>\n",
       "  </tbody>\n",
       "</table>\n",
       "<p>1 rows × 21 columns</p>\n",
       "</div>"
      ],
      "text/plain": [
       "   Rank  Major_code                  Major Major_category  Total  Sample_size  \\\n",
       "0     1        2419  PETROLEUM ENGINEERING    Engineering   2339           36   \n",
       "\n",
       "    Men  Women  ShareWomen  Employed      ...        Part_time  \\\n",
       "0  2057    282    0.120564      1976      ...              270   \n",
       "\n",
       "   Full_time_year_round  Unemployed  Unemployment_rate  Median  P25th   P75th  \\\n",
       "0                  1207          37           0.018381  110000  95000  125000   \n",
       "\n",
       "   College_jobs  Non_college_jobs  Low_wage_jobs  \n",
       "0          1534               364            193  \n",
       "\n",
       "[1 rows x 21 columns]"
      ]
     },
     "execution_count": 15,
     "metadata": {},
     "output_type": "execute_result"
    }
   ],
   "source": [
    "recent_grads.head(1)"
   ]
  },
  {
   "cell_type": "markdown",
   "metadata": {},
   "source": [
    "## Summarizing Major Categories\n",
    "- Using Series.unique() to return the unique values in a column\n"
   ]
  },
  {
   "cell_type": "code",
   "execution_count": 17,
   "metadata": {},
   "outputs": [
    {
     "name": "stdout",
     "output_type": "stream",
     "text": [
      "['Agriculture & Natural Resources' 'Biology & Life Science' 'Engineering'\n",
      " 'Humanities & Liberal Arts' 'Communications & Journalism'\n",
      " 'Computers & Mathematics' 'Industrial Arts & Consumer Services'\n",
      " 'Education' 'Law & Public Policy' 'Interdisciplinary' 'Health'\n",
      " 'Social Science' 'Physical Sciences' 'Psychology & Social Work' 'Arts'\n",
      " 'Business']\n"
     ]
    }
   ],
   "source": [
    "# Unique values of \"Major_category\" in all_ages \n",
    "print(all_ages[\"Major_category\"].unique())"
   ]
  },
  {
   "cell_type": "code",
   "execution_count": 19,
   "metadata": {},
   "outputs": [
    {
     "name": "stdout",
     "output_type": "stream",
     "text": [
      "['Engineering' 'Business' 'Physical Sciences' 'Law & Public Policy'\n",
      " 'Computers & Mathematics' 'Agriculture & Natural Resources'\n",
      " 'Industrial Arts & Consumer Services' 'Arts' 'Health' 'Social Science'\n",
      " 'Biology & Life Science' 'Education' 'Humanities & Liberal Arts'\n",
      " 'Psychology & Social Work' 'Communications & Journalism'\n",
      " 'Interdisciplinary']\n"
     ]
    }
   ],
   "source": [
    "# Unique values of \"Major_category\" in recent_grads\n",
    "print(recent_grads[\"Major_category\"].unique())"
   ]
  },
  {
   "cell_type": "markdown",
   "metadata": {},
   "source": [
    "**Instruction**\n",
    "- Use the Total column to calculate the number of people who fall under each Major_category in each data set.\n",
    "    - Store the result as a separate dictionary for each data set.\n",
    "    - The key for the dictionary should be the Major_category, and the value should be the total count.\n",
    "    - For the counts from all_ages, store the results as a dictionary named aa_cat_counts.\n",
    "    - For the counts from recent_grads, store the results as a dictionary named rg_cat_counts.\n"
   ]
  },
  {
   "cell_type": "code",
   "execution_count": 20,
   "metadata": {},
   "outputs": [],
   "source": [
    "# Initialize the dictionary \n",
    "aa_cat_counts = dict()\n",
    "rg_cat_counts = dict()"
   ]
  },
  {
   "cell_type": "code",
   "execution_count": 23,
   "metadata": {},
   "outputs": [],
   "source": [
    "def total_stats_of_major_category(df, d):\n",
    "    for major_category in df[\"Major_category\"].unique():\n",
    "        # Select all rows for this major category\n",
    "        all_rows = df[df[\"Major_category\"] == major_category]\n",
    "        # Using Series.sum() to calculate the total \n",
    "        d[major_category] = all_rows[\"Total\"].sum()\n",
    "\n",
    "total_stats_of_major_category(all_ages, aa_cat_counts)\n",
    "total_stats_of_major_category(recent_grads, rg_cat_counts)"
   ]
  },
  {
   "cell_type": "code",
   "execution_count": 24,
   "metadata": {},
   "outputs": [
    {
     "name": "stdout",
     "output_type": "stream",
     "text": [
      "{'Agriculture & Natural Resources': 632437, 'Biology & Life Science': 1338186, 'Engineering': 3576013, 'Humanities & Liberal Arts': 3738335, 'Communications & Journalism': 1803822, 'Computers & Mathematics': 1781378, 'Industrial Arts & Consumer Services': 1033798, 'Education': 4700118, 'Law & Public Policy': 902926, 'Interdisciplinary': 45199, 'Health': 2950859, 'Social Science': 2654125, 'Physical Sciences': 1025318, 'Psychology & Social Work': 1987278, 'Arts': 1805865, 'Business': 9858741}\n"
     ]
    }
   ],
   "source": [
    "print(aa_cat_counts)"
   ]
  },
  {
   "cell_type": "code",
   "execution_count": 25,
   "metadata": {},
   "outputs": [
    {
     "name": "stdout",
     "output_type": "stream",
     "text": [
      "{'Engineering': 537583, 'Business': 1302376, 'Physical Sciences': 185479, 'Law & Public Policy': 179107, 'Computers & Mathematics': 299008, 'Agriculture & Natural Resources': 79981, 'Industrial Arts & Consumer Services': 229792, 'Arts': 357130, 'Health': 463230, 'Social Science': 529966, 'Biology & Life Science': 453862, 'Education': 559129, 'Humanities & Liberal Arts': 713468, 'Psychology & Social Work': 481007, 'Communications & Journalism': 392601, 'Interdisciplinary': 12296}\n"
     ]
    }
   ],
   "source": [
    "print(rg_cat_counts)"
   ]
  },
  {
   "cell_type": "markdown",
   "metadata": {},
   "source": [
    "**Instruction**\n",
    "\n",
    "- Use the Low_wage_jobs and Total columns to calculate the proportion of recent college graduates that worked low wage jobs.\n",
    "    - Recall that you can use the Series.sum() method to return the sum of the values in a column.\n",
    "- Store the resulting float as low_wage_proportion, and display the value with the print() function.\n"
   ]
  },
  {
   "cell_type": "code",
   "execution_count": 30,
   "metadata": {},
   "outputs": [
    {
     "name": "stdout",
     "output_type": "stream",
     "text": [
      "low_wage_proportion is 0.09852546076122913\n"
     ]
    }
   ],
   "source": [
    "low_wage_proportion = recent_grads[\"Low_wage_jobs\"].sum()/recent_grads[\"Total\"].sum()\n",
    "print(\"low_wage_proportion is\", low_wage_proportion)"
   ]
  },
  {
   "cell_type": "markdown",
   "metadata": {},
   "source": [
    "Both the all_ages and recent_grads data sets have 173 rows, corresponding to the 173 college major codes. This enables us to do some comparisons between the two data sets, and perform some initial calculations to see how the statistics for recent college graduates compare with those for the entire population.\n",
    "\n",
    "Next, let's calculate the number of majors where recent graduates did better than the overall population."
   ]
  },
  {
   "cell_type": "markdown",
   "metadata": {},
   "source": [
    "**Instruction**\n",
    "\n",
    "    Use a for loop to iterate over majors.\n",
    "        For each major, use Boolean filtering to find the corresponding row in both DataFrames.\n",
    "        Compare the values for Unemployment_rate to see which DataFrame has a lower value.\n",
    "        Increment rg_lower_count if the value for Unemployment_rate is lower for recent_grads than it is for all_ages.\n",
    "\n",
    "    Display rg_lower_count with the print() function.\n"
   ]
  },
  {
   "cell_type": "code",
   "execution_count": 48,
   "metadata": {},
   "outputs": [
    {
     "name": "stdout",
     "output_type": "stream",
     "text": [
      "['ACCOUNTING' 'ACTUARIAL SCIENCE' 'ADVERTISING AND PUBLIC RELATIONS'\n",
      " 'AEROSPACE ENGINEERING' 'AGRICULTURAL ECONOMICS'\n",
      " 'AGRICULTURE PRODUCTION AND MANAGEMENT' 'ANIMAL SCIENCES'\n",
      " 'ANTHROPOLOGY AND ARCHEOLOGY' 'APPLIED MATHEMATICS'\n",
      " 'ARCHITECTURAL ENGINEERING' 'ARCHITECTURE'\n",
      " 'AREA ETHNIC AND CIVILIZATION STUDIES' 'ART AND MUSIC EDUCATION'\n",
      " 'ART HISTORY AND CRITICISM' 'ASTRONOMY AND ASTROPHYSICS'\n",
      " 'ATMOSPHERIC SCIENCES AND METEOROLOGY' 'BIOCHEMICAL SCIENCES'\n",
      " 'BIOLOGICAL ENGINEERING' 'BIOLOGY' 'BIOMEDICAL ENGINEERING' 'BOTANY'\n",
      " 'BUSINESS ECONOMICS' 'BUSINESS MANAGEMENT AND ADMINISTRATION'\n",
      " 'CHEMICAL ENGINEERING' 'CHEMISTRY' 'CIVIL ENGINEERING'\n",
      " 'CLINICAL PSYCHOLOGY' 'COGNITIVE SCIENCE AND BIOPSYCHOLOGY'\n",
      " 'COMMERCIAL ART AND GRAPHIC DESIGN'\n",
      " 'COMMUNICATION DISORDERS SCIENCES AND SERVICES'\n",
      " 'COMMUNICATION TECHNOLOGIES' 'COMMUNICATIONS'\n",
      " 'COMMUNITY AND PUBLIC HEALTH' 'COMPOSITION AND RHETORIC'\n",
      " 'COMPUTER ADMINISTRATION MANAGEMENT AND SECURITY'\n",
      " 'COMPUTER AND INFORMATION SYSTEMS' 'COMPUTER ENGINEERING'\n",
      " 'COMPUTER NETWORKING AND TELECOMMUNICATIONS'\n",
      " 'COMPUTER PROGRAMMING AND DATA PROCESSING' 'COMPUTER SCIENCE'\n",
      " 'CONSTRUCTION SERVICES' 'COSMETOLOGY SERVICES AND CULINARY ARTS'\n",
      " 'COUNSELING PSYCHOLOGY' 'COURT REPORTING'\n",
      " 'CRIMINAL JUSTICE AND FIRE PROTECTION' 'CRIMINOLOGY'\n",
      " 'DRAMA AND THEATER ARTS' 'EARLY CHILDHOOD EDUCATION' 'ECOLOGY'\n",
      " 'ECONOMICS' 'EDUCATIONAL ADMINISTRATION AND SUPERVISION'\n",
      " 'EDUCATIONAL PSYCHOLOGY' 'ELECTRICAL ENGINEERING'\n",
      " 'ELECTRICAL ENGINEERING TECHNOLOGY'\n",
      " 'ELECTRICAL, MECHANICAL, AND PRECISION TECHNOLOGIES AND PRODUCTION'\n",
      " 'ELEMENTARY EDUCATION' 'ENGINEERING AND INDUSTRIAL MANAGEMENT'\n",
      " 'ENGINEERING MECHANICS PHYSICS AND SCIENCE' 'ENGINEERING TECHNOLOGIES'\n",
      " 'ENGLISH LANGUAGE AND LITERATURE' 'ENVIRONMENTAL ENGINEERING'\n",
      " 'ENVIRONMENTAL SCIENCE' 'FAMILY AND CONSUMER SCIENCES'\n",
      " 'FILM VIDEO AND PHOTOGRAPHIC ARTS' 'FINANCE' 'FINE ARTS' 'FOOD SCIENCE'\n",
      " 'FORESTRY'\n",
      " 'FRENCH GERMAN LATIN AND OTHER COMMON FOREIGN LANGUAGE STUDIES'\n",
      " 'GENERAL AGRICULTURE' 'GENERAL BUSINESS' 'GENERAL EDUCATION'\n",
      " 'GENERAL ENGINEERING' 'GENERAL MEDICAL AND HEALTH SERVICES'\n",
      " 'GENERAL SOCIAL SCIENCES' 'GENETICS' 'GEOGRAPHY'\n",
      " 'GEOLOGICAL AND GEOPHYSICAL ENGINEERING' 'GEOLOGY AND EARTH SCIENCE'\n",
      " 'GEOSCIENCES' 'HEALTH AND MEDICAL ADMINISTRATIVE SERVICES'\n",
      " 'HEALTH AND MEDICAL PREPARATORY PROGRAMS' 'HISTORY'\n",
      " 'HOSPITALITY MANAGEMENT' 'HUMAN RESOURCES AND PERSONNEL MANAGEMENT'\n",
      " 'HUMAN SERVICES AND COMMUNITY ORGANIZATION' 'HUMANITIES'\n",
      " 'INDUSTRIAL AND MANUFACTURING ENGINEERING'\n",
      " 'INDUSTRIAL AND ORGANIZATIONAL PSYCHOLOGY'\n",
      " 'INDUSTRIAL PRODUCTION TECHNOLOGIES' 'INFORMATION SCIENCES'\n",
      " 'INTERCULTURAL AND INTERNATIONAL STUDIES'\n",
      " 'INTERDISCIPLINARY SOCIAL SCIENCES' 'INTERNATIONAL BUSINESS'\n",
      " 'INTERNATIONAL RELATIONS' 'JOURNALISM' 'LANGUAGE AND DRAMA EDUCATION'\n",
      " 'LIBERAL ARTS' 'LIBRARY SCIENCE'\n",
      " 'LINGUISTICS AND COMPARATIVE LANGUAGE AND LITERATURE'\n",
      " 'MANAGEMENT INFORMATION SYSTEMS AND STATISTICS'\n",
      " 'MARKETING AND MARKETING RESEARCH' 'MASS MEDIA'\n",
      " 'MATERIALS ENGINEERING AND MATERIALS SCIENCE' 'MATERIALS SCIENCE'\n",
      " 'MATHEMATICS' 'MATHEMATICS AND COMPUTER SCIENCE'\n",
      " 'MATHEMATICS TEACHER EDUCATION' 'MECHANICAL ENGINEERING'\n",
      " 'MECHANICAL ENGINEERING RELATED TECHNOLOGIES'\n",
      " 'MEDICAL ASSISTING SERVICES' 'MEDICAL TECHNOLOGIES TECHNICIANS'\n",
      " 'METALLURGICAL ENGINEERING' 'MICROBIOLOGY' 'MILITARY TECHNOLOGIES'\n",
      " 'MINING AND MINERAL ENGINEERING' 'MISCELLANEOUS AGRICULTURE'\n",
      " 'MISCELLANEOUS BIOLOGY' 'MISCELLANEOUS BUSINESS & MEDICAL ADMINISTRATION'\n",
      " 'MISCELLANEOUS EDUCATION' 'MISCELLANEOUS ENGINEERING'\n",
      " 'MISCELLANEOUS ENGINEERING TECHNOLOGIES' 'MISCELLANEOUS FINE ARTS'\n",
      " 'MISCELLANEOUS HEALTH MEDICAL PROFESSIONS' 'MISCELLANEOUS PSYCHOLOGY'\n",
      " 'MISCELLANEOUS SOCIAL SCIENCES' 'MOLECULAR BIOLOGY'\n",
      " 'MULTI-DISCIPLINARY OR GENERAL SCIENCE' 'MULTI/INTERDISCIPLINARY STUDIES'\n",
      " 'MUSIC' 'NATURAL RESOURCES MANAGEMENT'\n",
      " 'NAVAL ARCHITECTURE AND MARINE ENGINEERING' 'NEUROSCIENCE'\n",
      " 'NUCLEAR ENGINEERING'\n",
      " 'NUCLEAR, INDUSTRIAL RADIOLOGY, AND BIOLOGICAL TECHNOLOGIES' 'NURSING'\n",
      " 'NUTRITION SCIENCES' 'OCEANOGRAPHY' 'OPERATIONS LOGISTICS AND E-COMMERCE'\n",
      " 'OTHER FOREIGN LANGUAGES' 'PETROLEUM ENGINEERING' 'PHARMACOLOGY'\n",
      " 'PHARMACY PHARMACEUTICAL SCIENCES AND ADMINISTRATION'\n",
      " 'PHILOSOPHY AND RELIGIOUS STUDIES'\n",
      " 'PHYSICAL AND HEALTH EDUCATION TEACHING'\n",
      " 'PHYSICAL FITNESS PARKS RECREATION AND LEISURE' 'PHYSICAL SCIENCES'\n",
      " 'PHYSICS' 'PHYSIOLOGY' 'PLANT SCIENCE AND AGRONOMY'\n",
      " 'POLITICAL SCIENCE AND GOVERNMENT' 'PRE-LAW AND LEGAL STUDIES'\n",
      " 'PSYCHOLOGY' 'PUBLIC ADMINISTRATION' 'PUBLIC POLICY'\n",
      " 'SCHOOL STUDENT COUNSELING' 'SCIENCE AND COMPUTER TEACHER EDUCATION'\n",
      " 'SECONDARY TEACHER EDUCATION' 'SOCIAL PSYCHOLOGY'\n",
      " 'SOCIAL SCIENCE OR HISTORY TEACHER EDUCATION' 'SOCIAL WORK' 'SOCIOLOGY'\n",
      " 'SOIL SCIENCE' 'SPECIAL NEEDS EDUCATION'\n",
      " 'STATISTICS AND DECISION SCIENCE' 'STUDIO ARTS'\n",
      " 'TEACHER EDUCATION: MULTIPLE LEVELS' 'THEOLOGY AND RELIGIOUS VOCATIONS'\n",
      " 'TRANSPORTATION SCIENCES AND TECHNOLOGIES'\n",
      " 'TREATMENT THERAPY PROFESSIONS' 'UNITED STATES HISTORY'\n",
      " 'VISUAL AND PERFORMING ARTS' 'ZOOLOGY']\n"
     ]
    }
   ],
   "source": [
    "print(np.sort(all_ages[\"Major\"].unique()))"
   ]
  },
  {
   "cell_type": "code",
   "execution_count": 58,
   "metadata": {},
   "outputs": [
    {
     "name": "stdout",
     "output_type": "stream",
     "text": [
      "rg_lower_count is  43\n",
      "Number of majors are 173\n"
     ]
    }
   ],
   "source": [
    "aa_lower_count = 0\n",
    "rg_lower_count = 0\n",
    "for major in all_ages[\"Major\"].unique():\n",
    "    \n",
    "    aa_rows =  all_ages[all_ages[\"Major\"] == major]\n",
    "    rg_rows = recent_grads[recent_grads[\"Major\"] == major]\n",
    "    \n",
    "    aa_unemp_rate = aa_rows.iloc[0][\"Unemployment_rate\"]\n",
    "    rg_unemp_rate = rg_rows.iloc[0][\"Unemployment_rate\"]\n",
    "    # Equivalent\n",
    "    #aa_unemp_rate = aa_rows[\"Unemployment_rate\"].values[0]\n",
    "    #rg_unemp_rate = rg_rows[\"Unemployment_rate\"].values[0]\n",
    "    \n",
    "    if aa_unemp_rate < rg_unemp_rate:\n",
    "        aa_lower_count += 1\n",
    "    elif rg_unemp_rate < aa_unemp_rate:\n",
    "        rg_lower_count += 1\n",
    "print(\"rg_lower_count is \", rg_lower_count)\n",
    "print(\"Number of majors are\", len(all_ages[\"Major\"].unique()))"
   ]
  },
  {
   "cell_type": "markdown",
   "metadata": {},
   "source": [
    "It appears that less recent graduates who studied 43 of the 173 majors ended up having lower unemployment rates than the general population."
   ]
  }
 ],
 "metadata": {
  "kernelspec": {
   "display_name": "Python 3",
   "language": "python",
   "name": "python3"
  },
  "language_info": {
   "codemirror_mode": {
    "name": "ipython",
    "version": 3
   },
   "file_extension": ".py",
   "mimetype": "text/x-python",
   "name": "python",
   "nbconvert_exporter": "python",
   "pygments_lexer": "ipython3",
   "version": "3.6.4"
  }
 },
 "nbformat": 4,
 "nbformat_minor": 2
}
