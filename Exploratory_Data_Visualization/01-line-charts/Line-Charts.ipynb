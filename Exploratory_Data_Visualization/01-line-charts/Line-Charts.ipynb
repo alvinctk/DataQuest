{
 "cells": [
  {
   "cell_type": "markdown",
   "metadata": {},
   "source": [
    "In this course, named Exploratory Data Visualization, we'll focus on data visualization techniques to explore datasets and help us uncover patterns. In this mission, we'll use a specific type of data visualization to understand U.S. unemployment data."
   ]
  },
  {
   "cell_type": "markdown",
   "metadata": {},
   "source": [
    "## The Data\n",
    "The [United States Bureau of Labor Statistics (BLS)](www.bls.gov) surveys and calculates the monthly unemployment rate. The unemployment rate is the percentage of individuals in the labor force without a job. While unemployment rate [isn't perfect](https://en.wikipedia.org/wiki/Unemployment#Limitations_of_the_unemployment_definition), it's a commonly used proxy for the health of the economy. You may have heard politicians and reporters state the unemployment rate when commenting on the economy. You can read more about how the BLS calculates the unemployment rate here.\n",
    "\n",
    "The BLS releases monthly unemployment data available for download as an Excel file, with the `.xlsx` file extension. While the pandas library can read in XLSX files, it relies on an external library for actually parsing the format. Let's instead download the same dataset as a CSV file from the website of the [Federal Reserve Bank of St. Louis](https://www.stlouisfed.org/). We've downloaded the monthly unemployment rate as a CSV from January 1948 to August 2016, saved it as `unrate.csv`, and made it available in this mission.\n",
    "\n",
    "To download this dataset on your own, head to the [Federal Reserve Bank of St. Louis's website](https://fred.stlouisfed.org/series/UNRATE), `select Text, Comma Separated` as the **File Format**, make sure the Date Range field starts at <code><font color=\"red\">1948-01-01</font></code> and ends at <code><font color=\"red\">2016-08-01</font></code>.\n",
    "\n",
    "Before we get into visual representations of data, let's first read this CSV file into pandas to explore the table representation of this data. The dataset we'll be working with is a [time series](https://en.wikipedia.org/wiki/Time_series) dataset, which means the data points (monthly unemployment rates) are ordered by time. Here's a preview of the dataset:\n",
    "\n",
    "DATE|VALUE\n",
    ":--------:|:-----:\n",
    "1948-01-01|3.4\n",
    "1948-02-01|3.8\n",
    "1948-03-01|4.0\n",
    "1948-04-01|3.9\n",
    "1948-05-01|3.5\n",
    "\n",
    "When we read the dataset into a DataFrame, pandas will set the data type of the sss <code><font color='red'>DATE</font></code> column as a text column. Because of how pandas reads in strings internally, this column is given a data type of <code><font color=\"red\">object</font></code>. We need to convert this column to the `datetime` type using the [pandas.to_datetime()](http://pandas.pydata.org/pandas-docs/stable/generated/pandas.to_datetime.html) function, which returns a Series object with the datetime data type that we can assign back to the DataFrame:\n"
   ]
  },
  {
   "cell_type": "code",
   "execution_count": 1,
   "metadata": {},
   "outputs": [],
   "source": [
    "#import pandas as pd\n",
    "#df['col'] = pd.to_datetime(df['col'])"
   ]
  },
  {
   "cell_type": "markdown",
   "metadata": {},
   "source": [
    "**Instruction**\n",
    "- Read unrate.csv into a DataFrame and assign to unrate.\n",
    "- Use the pandas.to_datetime function to convert the DATE column into a series of datetime values.\n",
    "- Display the first 12 rows in unrate.\n"
   ]
  },
  {
   "cell_type": "code",
   "execution_count": 2,
   "metadata": {},
   "outputs": [
    {
     "name": "stdout",
     "output_type": "stream",
     "text": [
      "         DATE  UNRATE\n",
      "0  1948-01-01     3.4\n",
      "1  1948-02-01     3.8\n",
      "2  1948-03-01     4.0 \n",
      "\n"
     ]
    },
    {
     "data": {
      "text/plain": [
       "DATE       object\n",
       "UNRATE    float64\n",
       "dtype: object"
      ]
     },
     "execution_count": 2,
     "metadata": {},
     "output_type": "execute_result"
    }
   ],
   "source": [
    "import pandas as pd\n",
    "unrate = pd.read_csv(\"unrate.csv\")\n",
    "print(unrate.head(3),\"\\n\")\n",
    "unrate.dtypes"
   ]
  },
  {
   "cell_type": "code",
   "execution_count": 3,
   "metadata": {},
   "outputs": [
    {
     "name": "stdout",
     "output_type": "stream",
     "text": [
      "         DATE  UNRATE\n",
      "0  1948-01-01     3.4\n",
      "1  1948-02-01     3.8\n",
      "2  1948-03-01     4.0\n",
      "3  1948-04-01     3.9\n",
      "4  1948-05-01     3.5\n",
      "5  1948-06-01     3.6\n",
      "6  1948-07-01     3.6\n",
      "7  1948-08-01     3.9\n",
      "8  1948-09-01     3.8\n",
      "9  1948-10-01     3.7\n",
      "10 1948-11-01     3.8\n",
      "11 1948-12-01     4.0\n"
     ]
    },
    {
     "data": {
      "text/plain": [
       "DATE      datetime64[ns]\n",
       "UNRATE           float64\n",
       "dtype: object"
      ]
     },
     "execution_count": 3,
     "metadata": {},
     "output_type": "execute_result"
    }
   ],
   "source": [
    "unrate[\"DATE\"] = pd.to_datetime(unrate[\"DATE\"])\n",
    "print(unrate.head(12))\n",
    "unrate.dtypes\n"
   ]
  },
  {
   "cell_type": "markdown",
   "metadata": {},
   "source": [
    "## Table representation\n",
    "\n",
    "The dataset contains 2 columns:\n",
    "\n",
    "    DATE: date, always the first of the month. Here are some examples:\n",
    "        1948-01-01: January 1, 1948.\n",
    "        1948-02-01: February 1, 1948.\n",
    "        1948-03-01: March 1, 1948.\n",
    "        1948-12-01: December 1, 1948.\n",
    "    VALUE: the corresponding unemployment rate, in percent.\n",
    "\n",
    "\n"
   ]
  },
  {
   "cell_type": "markdown",
   "metadata": {},
   "source": [
    "The first 12 rows reflect the unemployment rate from January 1948 to December 1948:\n",
    "\n",
    "DATE|VALUE\n",
    "-----|------\n",
    "1948-01-01|3.4\n",
    "1948-02-01|3.8\n",
    "1948-03-01|4.0\n",
    "1948-04-01|3.9\n",
    "1948-05-01|3.5\n",
    "1948-06-01|3.6\n",
    "1948-07-01|3.6\n",
    "1948-08-01|3.9\n",
    "1948-09-01|3.8\n",
    "1948-10-01|3.7\n",
    "1948-11-01|3.8\n",
    "1948-12-01|4.0\n",
    "\n",
    "Take a minute to visually scan the table and observe how the monthly unemployment rate has changed over time. When you're finished, head to the next step in this mission.\n",
    "\n"
   ]
  },
  {
   "cell_type": "markdown",
   "metadata": {},
   "source": [
    "## Observations form the table representation\n",
    "\n",
    "We can make the following observations from the table:\n",
    "\n",
    "- In 1948:\n",
    "    - monthly unemployment rate ranged between 3.4 and 4.0.\n",
    "    - highest unemployment rate was reached in both March and December.\n",
    "    - lowest unemployment rate was reached in January.\n",
    "- From January to March, unemployment rate trended up.\n",
    "- From March to May, unemployment rate trended down.\n",
    "- From May to August, unemployment rate trended up.\n",
    "- From August to October, unemployment rate trended down.\n",
    "- From October to December, unemployment rate trended up.\n",
    "\n",
    "Because the table only contained the data from 1948, it didn't take too much time to identify these observations. If we scale up the table to include all 824 rows, it would be very time-consuming and painful to understand. Tables shine at presenting information precisely at the intersection of rows and columns and allow us to perform quick lookups when we know the row and column we're interested in. In addition, problems that involve comparing values between adjacent rows or columns are well suited for tables. Unfortunately, many problems you'll encounter in data science require comparisons that aren't possible with just tables.\n",
    "\n",
    "For example, one thing we learned from looking at the monthly unemployment rates for 1948 is that every few months, the unemployment rate switches between trending up and trending down. It's not switching direction every month, however, and this could mean that there's a seasonal effect. Seasonality is when a pattern is observed on a regular, predictable basis for a specific reason. A simple example of seasonality would be a large increase textbook purchases every August every year. Many schools start their terms in August and this spike in textbook sales is directly linked.\n",
    "\n",
    "We need to first understand if there's any seasonality by comparing the unemployment trends across many years so we can decide if we should investigate it further. The faster we're able to assess our data, the faster we can perform high-level analysis quickly. If we're reliant on just the table to help us figure this out, then we won't be able to perform a high level test quickly. Let's see how a visual representation of the same information can be more helpful than the table representation.\n"
   ]
  },
  {
   "cell_type": "markdown",
   "metadata": {},
   "source": [
    "## Visual Representation\n",
    "Instead of representing data using text like tables do, visual representations use visual objects like dots, shapes, and lines on a grid. Plots are a category of visual representations that allow us to easily understand the relationships between variables. There are many types of plots and selecting the right one is an important skill that you'll hone as you create data visualizations. Because we want to compare the unemployment trends across time, we should use line charts. Here's an overview of line charts using 4 sample data points:"
   ]
  },
  {
   "cell_type": "markdown",
   "metadata": {},
   "source": [
    "<img src=\"line_plot_basics.png\"/>"
   ]
  },
  {
   "cell_type": "markdown",
   "metadata": {},
   "source": [
    "Line charts work best when there is a logical connection between adjacent points. In our case, that connection is the flow of time. Between 2 reported monthly unemployment values, the unemployment rate is fluctuating and time is passing. To emphasize how the visual representation of the line chart helps us observe trends easily, let's look at the same 12 data points from 1948 as a line chart."
   ]
  },
  {
   "cell_type": "markdown",
   "metadata": {},
   "source": [
    "<img src=\"unemp_line_plot.png\"/>"
   ]
  },
  {
   "cell_type": "markdown",
   "metadata": {},
   "source": [
    "We can reach the same observations about the data from the line chart as we did from the table representation:"
   ]
  },
  {
   "cell_type": "markdown",
   "metadata": {},
   "source": [
    "<img src=\"unemp_plot_observations.png\"/>"
   ]
  },
  {
   "cell_type": "markdown",
   "metadata": {},
   "source": [
    "In the rest of this mission, we'll explore how to recreate this line chart in Python. In the next mission, we'll explore how to create multiple line charts to help us compare unemployment trends."
   ]
  },
  {
   "cell_type": "markdown",
   "metadata": {},
   "source": [
    "## Introduction to Matplotlib\n",
    "To create the line chart, we'll use the [matplotlib](matplotlib.org) library, which allows us to:\n",
    "\n",
    "    quickly create common plots using high-level functions\n",
    "    extensively tweak plots\n",
    "    create new kinds of plots from the ground up\n",
    "\n",
    "To help you become familiar with matplotlib, we'll focus on the first 2 use cases. When working with commonly used plots in matplotlib, the general workflow is:\n",
    "\n",
    "    create a plot using data\n",
    "    customize the appearance of the plot\n",
    "    display the plot\n",
    "    edit and repeat until satisfied\n",
    "\n",
    "This interactive style aligns well with the exploratory workflow of data visualization because we're asking questions and creating data visualizations to help us get answers. The [pyplot](https://matplotlib.org/api/pyplot_api.html) module provides a high-level interface for matplotlib that allows us to quickly create common data plots and perform common tweaks to them.\n",
    "\n",
    "The pyplot module is commonly imported as <code><font color=\"red\">plt</font></code> from <code><font color=\"red\">matplotlib</font></code>:"
   ]
  },
  {
   "cell_type": "code",
   "execution_count": 4,
   "metadata": {},
   "outputs": [],
   "source": [
    "import matplotlib.pyplot as plt"
   ]
  },
  {
   "cell_type": "markdown",
   "metadata": {},
   "source": [
    "Using the different pyplot functions, we can create, customize, and display a plot. For example, we can use 2 functions to :"
   ]
  },
  {
   "cell_type": "code",
   "execution_count": 5,
   "metadata": {},
   "outputs": [
    {
     "data": {
      "image/png": "[encoded data removed]",
      "text/plain": [
       "<Figure size 432x288 with 1 Axes>"
      ]
     },
     "metadata": {},
     "output_type": "display_data"
    }
   ],
   "source": [
    "plt.plot()\n",
    "plt.show()"
   ]
  },
  {
   "cell_type": "markdown",
   "metadata": {},
   "source": [
    "Because we didn't pass in any arguments, the [plot()](https://matplotlib.org/api/pyplot_api.html#matplotlib.pyplot.plot) function would generate an empty plot with just the axes and ticks and the [show()](https://matplotlib.org/api/pyplot_api.html#matplotlib.pyplot.show) function would display that plot. You'll notice that we didn't assign the plot to a variable and then call a method on the variable to display it. We instead called 2 functions on the pyplot module directly.\n",
    "\n",
    "This is because every time we call a pyplot function, the module maintains and updates the plot internally (also known as state). When we call <code><font color=\"red\">show()</font></code>, the plot is displayed and the internal state is destroyed. While this workflow isn't ideal when we're writing functions that create plots on a repeated basis as part of a larger application, it's useful when exploring data.\n",
    "\n",
    "Let's run this code to see the default properties matplotlib uses. If you'd like to follow along on your own computer, we recommend installing matplotlib using Anaconda: <code><font color=\"red\">conda install matplotlib</font></code>. We recommend working with matplotlib using Jupyter Notebook because it can render the plots in the notebook itself. You will need to run the following Jupyter magic in a code cell each time you open your notebook: <code><font color=\"red\">%matplotlib inline</font></code>. Whenever you call <code><font color=\"red\">show()</font></code>, the plots will be displayed in the output cell. You can read more [here](http://ipython.readthedocs.io/en/stable/interactive/plotting.html)."
   ]
  },
  {
   "cell_type": "markdown",
   "metadata": {},
   "source": [
    "**Instruction** \n",
    "- Generate an empty plot using <code><font color=\"red\">plt.plot()</font></code> and display it using <code><font color=\"red\">plt.show()</font></code>"
   ]
  },
  {
   "cell_type": "code",
   "execution_count": 6,
   "metadata": {},
   "outputs": [
    {
     "data": {
      "image/png": "[encoded data removed]",
      "text/plain": [
       "<Figure size 432x288 with 1 Axes>"
      ]
     },
     "metadata": {},
     "output_type": "display_data"
    }
   ],
   "source": [
    "import matplotlib.pyplot as plt\n",
    "plt.plot()\n",
    "plt.show()"
   ]
  },
  {
   "cell_type": "markdown",
   "metadata": {},
   "source": [
    "## Adding Data\n",
    "By default, Matplotlib displayed a coordinate grid with:\n",
    "- the x-axis and y-axis values ranging from <code><font color=\"red\">-0.06</font></code> to <code><font color=\"red\">0.06</font></code>\n",
    "- no grid lines\n",
    "- no data\n",
    "\n",
    "Even though no data was plotted, the x-axis and y-axis ticks corresponding to the <code><font color=\"red\">-0.06</font></code> to <code><font color=\"red\">0.06</font></code> value range. The axis ticks consist of tick marks and tick labels. Here's a focused view of the x-axis tick marks and x-axis tick labels:\n",
    "<img src=\"axis+ticks.png\"/>\n",
    "\n",
    "To create a line chart of the unemployment data from 1948, we need:\n",
    "\n",
    "- the x-axis to range from <code><font color=\"red\">01-01-1948</font></code> to <code><font color=\"red\">12-01-1948</font></code> (which corresponds to the first and last months in 1948)\n",
    "- the y-axis to range from <code><font color=\"red\">3.4</font></code> to <code><font color=\"red\">4.0</font></code> (which correspond to the minimum and maximum unemployment values)\n",
    "\n",
    "Instead of manually updating the ticks, drawing each marker, and connecting the markers with lines, we can just specify the data we want plotted and let matplotlib handle the rest. To generate the line chart we're interested in, we pass in the list of x-values as the first parameter and the list of y-values as the second parameter to plot(): <code><font color=\"red\">plt.plot(x_values, y_values)</font></code>\n",
    "\n",
    "Matplotlib will accept any iterable object, like NumPy arrays and <code><font color=\"red\">pandas.Series</font></code> instances.\n",
    "\n",
    "**Instructions**\n",
    "- Generate a line chart that visualizes the unemployment rates from 1948:\n",
    "    - x-values should be the first 12 values in the <code><font color=\"red\">DATE</font></code> column\n",
    "    - y-values should be the first 12 values in the <code><font color=\"red\">UNRATE</font></code> column\n",
    "- Display the plot.\n"
   ]
  },
  {
   "cell_type": "code",
   "execution_count": 7,
   "metadata": {},
   "outputs": [
    {
     "data": {
      "image/png": "[encoded data removed]",
      "text/plain": [
       "<Figure size 432x288 with 1 Axes>"
      ]
     },
     "metadata": {},
     "output_type": "display_data"
    }
   ],
   "source": [
    "import matplotlib.pyplot as plt\n",
    "import pandas as pd\n",
    "\n",
    "unrate = pd.read_csv(\"unrate.csv\")\n",
    "unrate[\"DATE\"] = pd.to_datetime(unrate[\"DATE\"])\n",
    "first_twelve = unrate[0:12]\n",
    "plt.plot(first_twelve[\"DATE\"], first_twelve[\"UNRATE\"])\n",
    "plt.show()"
   ]
  },
  {
   "cell_type": "markdown",
   "metadata": {},
   "source": [
    "## Fixing Axis Ticks\n",
    "While the y-axis looks fine, the x-axis tick labels are too close together and are unreadable. The line charts from earlier in the mission suggest a better way to display the x-axis tick labels:\n",
    "<img src=\"unemp_line_plot.png\"/>\n",
    "\n",
    "We can rotate the x-axis tick labels by 90 degrees so they don't overlap. The <code><font color=\"red\">xticks()</font></code>function within pyplot lets you customize the behavior of the x-axis ticks. If you head over to the [documentation](https://matplotlib.org/api/pyplot_api.html#matplotlib.pyplot.xticks) for that function, it's not immediately obvious the arguments it takes: <code><font color=\"red\">matplotlib.pyplot.xticks(*args, **kwargs)</font></code>\n",
    "\n",
    "In the documentation for the function, you'll see a link to the matplotlib Text class, which is what pyplot uses to represent the x-axis tick labels. You'll notice that there's a rotation parameter that accepts degrees of <code><font color=\"red\">rotation</font></code> as a parameter. We can specify degrees of rotation using a float or integer value.\n",
    "\n",
    "As a side note, if you read the [documentation for pyplot](https://matplotlib.org/api/pyplot_api.html), you'll notice that many functions for tweaking the x-axis have matching functions for the y-axis. For example, the y-axis counterpart to the <code><font color=\"red\">xticks()</font></code> function is the yticks() function.\n",
    "\n",
    "Use what we've discussed so far to rotate the x-axis tick labels by 90 degrees.\n",
    "\n",
    "**Instruction**\n",
    "- Generate the same line chart from the last screen that visualizes the unemployment rates from 1948:\n",
    "    - x-values should be the first 12 values in the <code><font color=\"red\">DATE</font></code> column\n",
    "    - y-values should be the first 12 values in the <code><font color=\"red\">UNRATE</font></code> column\n",
    "- Use <code><font color=\"red\">pyplot.xticks()</font></code> to rotate the x-axis tick labels by <code><font color=\"red\">90</font></code> degrees.\n",
    "- Display the plot.\n"
   ]
  },
  {
   "cell_type": "code",
   "execution_count": 8,
   "metadata": {
    "scrolled": true
   },
   "outputs": [
    {
     "data": {
      "image/png": "[encoded data removed]",
      "text/plain": [
       "<Figure size 432x288 with 1 Axes>"
      ]
     },
     "metadata": {},
     "output_type": "display_data"
    }
   ],
   "source": [
    "import matplotlib.pyplot as plt\n",
    "import pandas as pd\n",
    "\n",
    "unrate = pd.read_csv(\"unrate.csv\")\n",
    "unrate[\"DATE\"] = pd.to_datetime(unrate[\"DATE\"])\n",
    "first_twelve = unrate[0:12]\n",
    "plt.plot(first_twelve[\"DATE\"], first_twelve[\"UNRATE\"])\n",
    "plt.xticks(rotation=90)\n",
    "plt.show()"
   ]
  },
  {
   "cell_type": "markdown",
   "metadata": {},
   "source": [
    "## Adding axis labels and a title \n",
    "Let's now finish tweaking this plot by adding axis labels and a title. Always adding axis labels and a title to your plot is a good habit to have, and is especially useful when we're trying to keep track of multiple plots down the road.\n",
    "\n",
    "Here's an overview of the pyplot functions we need to tweak the axis labels and the plot title:\n",
    "- [xlabel()](https://matplotlib.org/api/pyplot_api.html#matplotlib.pyplot.xlabel): accepts a string value, which gets set as the x-axis label.\n",
    "- [ylabel()](https://matplotlib.org/api/pyplot_api.html#matplotlib.pyplot.ylabel): accepts a string value, which is set as the y-axis label.\n",
    "- [title()](https://matplotlib.org/api/pyplot_api.html#matplotlib.pyplot.title): accepts a string value, which is set as the plot title"
   ]
  },
  {
   "cell_type": "markdown",
   "metadata": {},
   "source": [
    "**Instruction**\n",
    "- Generate the same line chart from the last screen that visualizes the unemployment rates from 1948:\n",
    "    - x-values should be the first 12 values in the <code><font color=\"red\">DATE</font></code> column\n",
    "    - y-values should be the first 12 values in the <code><font color=\"red\">UNRATE</font></code> column\n",
    "    - Rotate the x-axis tick labels by <code><font color=\"red\">90</font></code> degrees\n",
    "- Set the x-axis label to <code><font color=\"red\">\"Month\"</font></code>.\n",
    "- Set the y-axis label to <code><font color=\"red\">\"Unemployment Rate\"</font></code>.\n",
    "- Set the plot title to <code><font color=\"red\">\"Monthly Unemployment Trends, 1948\"</font></code>.\n",
    "- Display the plot."
   ]
  },
  {
   "cell_type": "code",
   "execution_count": 9,
   "metadata": {},
   "outputs": [
    {
     "data": {
      "image/png": "[encoded data removed]",
      "text/plain": [
       "<Figure size 432x288 with 1 Axes>"
      ]
     },
     "metadata": {},
     "output_type": "display_data"
    }
   ],
   "source": [
    "import matplotlib.pyplot as plt\n",
    "import pandas as pd\n",
    "\n",
    "unrate = pd.read_csv(\"unrate.csv\")\n",
    "unrate[\"DATE\"] = pd.to_datetime(unrate[\"DATE\"])\n",
    "first_twelve = unrate[0:12]\n",
    "plt.plot(first_twelve[\"DATE\"], first_twelve[\"UNRATE\"])\n",
    "plt.xticks(rotation=90)\n",
    "plt.xlabel(\"Month\")\n",
    "plt.ylabel(\"Unemployment Rate\")\n",
    "plt.title(\"Monthly Unemployment Trends, 1948\")\n",
    "plt.show()"
   ]
  },
  {
   "cell_type": "markdown",
   "metadata": {},
   "source": [
    "In this mission, we looked at a sample of a dataset on unemployment as a table and noted some observations. We introduced line charts and witnessed how a visual representation of the same data sample allowed us to surface the same observations quickly. Finally, we explored the basics of the pyplot module and learned how to create and customize a line chart that visualized the sample.\n",
    "\n",
    "In the next mission, we'll dive deeper into matplotlib and learn how to create multiple plots to compare unemployment trends across multiple years."
   ]
  }
 ],
 "metadata": {
  "kernelspec": {
   "display_name": "Python 3",
   "language": "python",
   "name": "python3"
  },
  "language_info": {
   "codemirror_mode": {
    "name": "ipython",
    "version": 3
   },
   "file_extension": ".py",
   "mimetype": "text/x-python",
   "name": "python",
   "nbconvert_exporter": "python",
   "pygments_lexer": "ipython3",
   "version": "3.6.4"
  }
 },
 "nbformat": 4,
 "nbformat_minor": 2
}
